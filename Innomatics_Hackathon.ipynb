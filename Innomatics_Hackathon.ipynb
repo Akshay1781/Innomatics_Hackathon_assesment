{
  "nbformat": 4,
  "nbformat_minor": 0,
  "metadata": {
    "colab": {
      "name": "Innomatics_Hackathon",
      "provenance": [],
      "collapsed_sections": [],
      "authorship_tag": "ABX9TyNwxuoIssbPZsUL1xktpgU4",
      "include_colab_link": true
    },
    "kernelspec": {
      "name": "python3",
      "display_name": "Python 3"
    },
    "language_info": {
      "name": "python"
    }
  },
  "cells": [
    {
      "cell_type": "markdown",
      "metadata": {
        "id": "view-in-github",
        "colab_type": "text"
      },
      "source": [
        "<a href=\"https://colab.research.google.com/github/Akshay1781/Innomatics_Hackathon_assesment/blob/main/Innomatics_Hackathon.ipynb\" target=\"_parent\"><img src=\"https://colab.research.google.com/assets/colab-badge.svg\" alt=\"Open In Colab\"/></a>"
      ]
    },
    {
      "cell_type": "code",
      "execution_count": 78,
      "metadata": {
        "id": "4l0rtYaHG6PV"
      },
      "outputs": [],
      "source": [
        "# importing the libraries\n",
        "import pandas as pd \n",
        "import numpy as np\n",
        "import matplotlib.pyplot as plt\n",
        "import seaborn as sns"
      ]
    },
    {
      "cell_type": "code",
      "source": [
        "from google.colab import files\n",
        "upload = files.upload()"
      ],
      "metadata": {
        "colab": {
          "resources": {
            "http://localhost:8080/nbextensions/google.colab/files.js": {
              "data": "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",
              "ok": true,
              "headers": [
                [
                  "content-type",
                  "application/javascript"
                ]
              ],
              "status": 200,
              "status_text": ""
            }
          },
          "base_uri": "https://localhost:8080/",
          "height": 74
        },
        "id": "3aibnfBGHJ2g",
        "outputId": "88bf6673-a430-47a6-b967-e56859671902"
      },
      "execution_count": 79,
      "outputs": [
        {
          "output_type": "display_data",
          "data": {
            "text/plain": [
              "<IPython.core.display.HTML object>"
            ],
            "text/html": [
              "\n",
              "     <input type=\"file\" id=\"files-12dec4a3-d778-4a50-aeaf-62cf78c3760b\" name=\"files[]\" multiple disabled\n",
              "        style=\"border:none\" />\n",
              "     <output id=\"result-12dec4a3-d778-4a50-aeaf-62cf78c3760b\">\n",
              "      Upload widget is only available when the cell has been executed in the\n",
              "      current browser session. Please rerun this cell to enable.\n",
              "      </output>\n",
              "      <script src=\"/nbextensions/google.colab/files.js\"></script> "
            ]
          },
          "metadata": {}
        },
        {
          "output_type": "stream",
          "name": "stdout",
          "text": [
            "Saving data_2_var.csv to data_2_var (2).csv\n"
          ]
        }
      ]
    },
    {
      "cell_type": "code",
      "source": [
        "df = pd.read_csv(\"data_2_var.csv\", header=None)"
      ],
      "metadata": {
        "id": "LvdE363THTyN"
      },
      "execution_count": 80,
      "outputs": []
    },
    {
      "cell_type": "code",
      "source": [
        "df"
      ],
      "metadata": {
        "colab": {
          "base_uri": "https://localhost:8080/",
          "height": 424
        },
        "id": "DqGRXKd0Hfi_",
        "outputId": "c61d6d77-2779-4f75-d5c4-7543c4583772"
      },
      "execution_count": 81,
      "outputs": [
        {
          "output_type": "execute_result",
          "data": {
            "text/plain": [
              "               0           1\n",
              "0    -122.740667 -130.572085\n",
              "1    -121.531419 -129.938929\n",
              "2    -134.917019 -130.141832\n",
              "3    -120.605951 -125.760932\n",
              "4    -129.894781 -112.785214\n",
              "...          ...         ...\n",
              "1106 -115.366669  121.000000\n",
              "1107 -119.954237  123.609122\n",
              "1108 -109.942155  127.197394\n",
              "1109 -111.515368  128.170885\n",
              "1110 -110.344221  123.087950\n",
              "\n",
              "[1111 rows x 2 columns]"
            ],
            "text/html": [
              "\n",
              "  <div id=\"df-3bb81616-05f0-455e-85bd-f8452aada7cc\">\n",
              "    <div class=\"colab-df-container\">\n",
              "      <div>\n",
              "<style scoped>\n",
              "    .dataframe tbody tr th:only-of-type {\n",
              "        vertical-align: middle;\n",
              "    }\n",
              "\n",
              "    .dataframe tbody tr th {\n",
              "        vertical-align: top;\n",
              "    }\n",
              "\n",
              "    .dataframe thead th {\n",
              "        text-align: right;\n",
              "    }\n",
              "</style>\n",
              "<table border=\"1\" class=\"dataframe\">\n",
              "  <thead>\n",
              "    <tr style=\"text-align: right;\">\n",
              "      <th></th>\n",
              "      <th>0</th>\n",
              "      <th>1</th>\n",
              "    </tr>\n",
              "  </thead>\n",
              "  <tbody>\n",
              "    <tr>\n",
              "      <th>0</th>\n",
              "      <td>-122.740667</td>\n",
              "      <td>-130.572085</td>\n",
              "    </tr>\n",
              "    <tr>\n",
              "      <th>1</th>\n",
              "      <td>-121.531419</td>\n",
              "      <td>-129.938929</td>\n",
              "    </tr>\n",
              "    <tr>\n",
              "      <th>2</th>\n",
              "      <td>-134.917019</td>\n",
              "      <td>-130.141832</td>\n",
              "    </tr>\n",
              "    <tr>\n",
              "      <th>3</th>\n",
              "      <td>-120.605951</td>\n",
              "      <td>-125.760932</td>\n",
              "    </tr>\n",
              "    <tr>\n",
              "      <th>4</th>\n",
              "      <td>-129.894781</td>\n",
              "      <td>-112.785214</td>\n",
              "    </tr>\n",
              "    <tr>\n",
              "      <th>...</th>\n",
              "      <td>...</td>\n",
              "      <td>...</td>\n",
              "    </tr>\n",
              "    <tr>\n",
              "      <th>1106</th>\n",
              "      <td>-115.366669</td>\n",
              "      <td>121.000000</td>\n",
              "    </tr>\n",
              "    <tr>\n",
              "      <th>1107</th>\n",
              "      <td>-119.954237</td>\n",
              "      <td>123.609122</td>\n",
              "    </tr>\n",
              "    <tr>\n",
              "      <th>1108</th>\n",
              "      <td>-109.942155</td>\n",
              "      <td>127.197394</td>\n",
              "    </tr>\n",
              "    <tr>\n",
              "      <th>1109</th>\n",
              "      <td>-111.515368</td>\n",
              "      <td>128.170885</td>\n",
              "    </tr>\n",
              "    <tr>\n",
              "      <th>1110</th>\n",
              "      <td>-110.344221</td>\n",
              "      <td>123.087950</td>\n",
              "    </tr>\n",
              "  </tbody>\n",
              "</table>\n",
              "<p>1111 rows × 2 columns</p>\n",
              "</div>\n",
              "      <button class=\"colab-df-convert\" onclick=\"convertToInteractive('df-3bb81616-05f0-455e-85bd-f8452aada7cc')\"\n",
              "              title=\"Convert this dataframe to an interactive table.\"\n",
              "              style=\"display:none;\">\n",
              "        \n",
              "  <svg xmlns=\"http://www.w3.org/2000/svg\" height=\"24px\"viewBox=\"0 0 24 24\"\n",
              "       width=\"24px\">\n",
              "    <path d=\"M0 0h24v24H0V0z\" fill=\"none\"/>\n",
              "    <path d=\"M18.56 5.44l.94 2.06.94-2.06 2.06-.94-2.06-.94-.94-2.06-.94 2.06-2.06.94zm-11 1L8.5 8.5l.94-2.06 2.06-.94-2.06-.94L8.5 2.5l-.94 2.06-2.06.94zm10 10l.94 2.06.94-2.06 2.06-.94-2.06-.94-.94-2.06-.94 2.06-2.06.94z\"/><path d=\"M17.41 7.96l-1.37-1.37c-.4-.4-.92-.59-1.43-.59-.52 0-1.04.2-1.43.59L10.3 9.45l-7.72 7.72c-.78.78-.78 2.05 0 2.83L4 21.41c.39.39.9.59 1.41.59.51 0 1.02-.2 1.41-.59l7.78-7.78 2.81-2.81c.8-.78.8-2.07 0-2.86zM5.41 20L4 18.59l7.72-7.72 1.47 1.35L5.41 20z\"/>\n",
              "  </svg>\n",
              "      </button>\n",
              "      \n",
              "  <style>\n",
              "    .colab-df-container {\n",
              "      display:flex;\n",
              "      flex-wrap:wrap;\n",
              "      gap: 12px;\n",
              "    }\n",
              "\n",
              "    .colab-df-convert {\n",
              "      background-color: #E8F0FE;\n",
              "      border: none;\n",
              "      border-radius: 50%;\n",
              "      cursor: pointer;\n",
              "      display: none;\n",
              "      fill: #1967D2;\n",
              "      height: 32px;\n",
              "      padding: 0 0 0 0;\n",
              "      width: 32px;\n",
              "    }\n",
              "\n",
              "    .colab-df-convert:hover {\n",
              "      background-color: #E2EBFA;\n",
              "      box-shadow: 0px 1px 2px rgba(60, 64, 67, 0.3), 0px 1px 3px 1px rgba(60, 64, 67, 0.15);\n",
              "      fill: #174EA6;\n",
              "    }\n",
              "\n",
              "    [theme=dark] .colab-df-convert {\n",
              "      background-color: #3B4455;\n",
              "      fill: #D2E3FC;\n",
              "    }\n",
              "\n",
              "    [theme=dark] .colab-df-convert:hover {\n",
              "      background-color: #434B5C;\n",
              "      box-shadow: 0px 1px 3px 1px rgba(0, 0, 0, 0.15);\n",
              "      filter: drop-shadow(0px 1px 2px rgba(0, 0, 0, 0.3));\n",
              "      fill: #FFFFFF;\n",
              "    }\n",
              "  </style>\n",
              "\n",
              "      <script>\n",
              "        const buttonEl =\n",
              "          document.querySelector('#df-3bb81616-05f0-455e-85bd-f8452aada7cc button.colab-df-convert');\n",
              "        buttonEl.style.display =\n",
              "          google.colab.kernel.accessAllowed ? 'block' : 'none';\n",
              "\n",
              "        async function convertToInteractive(key) {\n",
              "          const element = document.querySelector('#df-3bb81616-05f0-455e-85bd-f8452aada7cc');\n",
              "          const dataTable =\n",
              "            await google.colab.kernel.invokeFunction('convertToInteractive',\n",
              "                                                     [key], {});\n",
              "          if (!dataTable) return;\n",
              "\n",
              "          const docLinkHtml = 'Like what you see? Visit the ' +\n",
              "            '<a target=\"_blank\" href=https://colab.research.google.com/notebooks/data_table.ipynb>data table notebook</a>'\n",
              "            + ' to learn more about interactive tables.';\n",
              "          element.innerHTML = '';\n",
              "          dataTable['output_type'] = 'display_data';\n",
              "          await google.colab.output.renderOutput(dataTable, element);\n",
              "          const docLink = document.createElement('div');\n",
              "          docLink.innerHTML = docLinkHtml;\n",
              "          element.appendChild(docLink);\n",
              "        }\n",
              "      </script>\n",
              "    </div>\n",
              "  </div>\n",
              "  "
            ]
          },
          "metadata": {},
          "execution_count": 81
        }
      ]
    },
    {
      "cell_type": "code",
      "source": [
        "# numbers of rows and columns in the Datasets\n",
        "df.shape"
      ],
      "metadata": {
        "colab": {
          "base_uri": "https://localhost:8080/"
        },
        "id": "W-eOfx9fHgTf",
        "outputId": "5304cea1-611a-4755-ae75-b083927d2cea"
      },
      "execution_count": 82,
      "outputs": [
        {
          "output_type": "execute_result",
          "data": {
            "text/plain": [
              "(1111, 2)"
            ]
          },
          "metadata": {},
          "execution_count": 82
        }
      ]
    },
    {
      "cell_type": "code",
      "source": [
        "# Top 5 observations from the datasets\n",
        "df.head()"
      ],
      "metadata": {
        "colab": {
          "base_uri": "https://localhost:8080/",
          "height": 206
        },
        "id": "DTV5yHN9Hilj",
        "outputId": "97d130df-fba5-4d9d-9337-bc06dbf6f043"
      },
      "execution_count": 83,
      "outputs": [
        {
          "output_type": "execute_result",
          "data": {
            "text/plain": [
              "            0           1\n",
              "0 -122.740667 -130.572085\n",
              "1 -121.531419 -129.938929\n",
              "2 -134.917019 -130.141832\n",
              "3 -120.605951 -125.760932\n",
              "4 -129.894781 -112.785214"
            ],
            "text/html": [
              "\n",
              "  <div id=\"df-0a5ec457-bedc-45ee-b2f4-3fcd5bd4db42\">\n",
              "    <div class=\"colab-df-container\">\n",
              "      <div>\n",
              "<style scoped>\n",
              "    .dataframe tbody tr th:only-of-type {\n",
              "        vertical-align: middle;\n",
              "    }\n",
              "\n",
              "    .dataframe tbody tr th {\n",
              "        vertical-align: top;\n",
              "    }\n",
              "\n",
              "    .dataframe thead th {\n",
              "        text-align: right;\n",
              "    }\n",
              "</style>\n",
              "<table border=\"1\" class=\"dataframe\">\n",
              "  <thead>\n",
              "    <tr style=\"text-align: right;\">\n",
              "      <th></th>\n",
              "      <th>0</th>\n",
              "      <th>1</th>\n",
              "    </tr>\n",
              "  </thead>\n",
              "  <tbody>\n",
              "    <tr>\n",
              "      <th>0</th>\n",
              "      <td>-122.740667</td>\n",
              "      <td>-130.572085</td>\n",
              "    </tr>\n",
              "    <tr>\n",
              "      <th>1</th>\n",
              "      <td>-121.531419</td>\n",
              "      <td>-129.938929</td>\n",
              "    </tr>\n",
              "    <tr>\n",
              "      <th>2</th>\n",
              "      <td>-134.917019</td>\n",
              "      <td>-130.141832</td>\n",
              "    </tr>\n",
              "    <tr>\n",
              "      <th>3</th>\n",
              "      <td>-120.605951</td>\n",
              "      <td>-125.760932</td>\n",
              "    </tr>\n",
              "    <tr>\n",
              "      <th>4</th>\n",
              "      <td>-129.894781</td>\n",
              "      <td>-112.785214</td>\n",
              "    </tr>\n",
              "  </tbody>\n",
              "</table>\n",
              "</div>\n",
              "      <button class=\"colab-df-convert\" onclick=\"convertToInteractive('df-0a5ec457-bedc-45ee-b2f4-3fcd5bd4db42')\"\n",
              "              title=\"Convert this dataframe to an interactive table.\"\n",
              "              style=\"display:none;\">\n",
              "        \n",
              "  <svg xmlns=\"http://www.w3.org/2000/svg\" height=\"24px\"viewBox=\"0 0 24 24\"\n",
              "       width=\"24px\">\n",
              "    <path d=\"M0 0h24v24H0V0z\" fill=\"none\"/>\n",
              "    <path d=\"M18.56 5.44l.94 2.06.94-2.06 2.06-.94-2.06-.94-.94-2.06-.94 2.06-2.06.94zm-11 1L8.5 8.5l.94-2.06 2.06-.94-2.06-.94L8.5 2.5l-.94 2.06-2.06.94zm10 10l.94 2.06.94-2.06 2.06-.94-2.06-.94-.94-2.06-.94 2.06-2.06.94z\"/><path d=\"M17.41 7.96l-1.37-1.37c-.4-.4-.92-.59-1.43-.59-.52 0-1.04.2-1.43.59L10.3 9.45l-7.72 7.72c-.78.78-.78 2.05 0 2.83L4 21.41c.39.39.9.59 1.41.59.51 0 1.02-.2 1.41-.59l7.78-7.78 2.81-2.81c.8-.78.8-2.07 0-2.86zM5.41 20L4 18.59l7.72-7.72 1.47 1.35L5.41 20z\"/>\n",
              "  </svg>\n",
              "      </button>\n",
              "      \n",
              "  <style>\n",
              "    .colab-df-container {\n",
              "      display:flex;\n",
              "      flex-wrap:wrap;\n",
              "      gap: 12px;\n",
              "    }\n",
              "\n",
              "    .colab-df-convert {\n",
              "      background-color: #E8F0FE;\n",
              "      border: none;\n",
              "      border-radius: 50%;\n",
              "      cursor: pointer;\n",
              "      display: none;\n",
              "      fill: #1967D2;\n",
              "      height: 32px;\n",
              "      padding: 0 0 0 0;\n",
              "      width: 32px;\n",
              "    }\n",
              "\n",
              "    .colab-df-convert:hover {\n",
              "      background-color: #E2EBFA;\n",
              "      box-shadow: 0px 1px 2px rgba(60, 64, 67, 0.3), 0px 1px 3px 1px rgba(60, 64, 67, 0.15);\n",
              "      fill: #174EA6;\n",
              "    }\n",
              "\n",
              "    [theme=dark] .colab-df-convert {\n",
              "      background-color: #3B4455;\n",
              "      fill: #D2E3FC;\n",
              "    }\n",
              "\n",
              "    [theme=dark] .colab-df-convert:hover {\n",
              "      background-color: #434B5C;\n",
              "      box-shadow: 0px 1px 3px 1px rgba(0, 0, 0, 0.15);\n",
              "      filter: drop-shadow(0px 1px 2px rgba(0, 0, 0, 0.3));\n",
              "      fill: #FFFFFF;\n",
              "    }\n",
              "  </style>\n",
              "\n",
              "      <script>\n",
              "        const buttonEl =\n",
              "          document.querySelector('#df-0a5ec457-bedc-45ee-b2f4-3fcd5bd4db42 button.colab-df-convert');\n",
              "        buttonEl.style.display =\n",
              "          google.colab.kernel.accessAllowed ? 'block' : 'none';\n",
              "\n",
              "        async function convertToInteractive(key) {\n",
              "          const element = document.querySelector('#df-0a5ec457-bedc-45ee-b2f4-3fcd5bd4db42');\n",
              "          const dataTable =\n",
              "            await google.colab.kernel.invokeFunction('convertToInteractive',\n",
              "                                                     [key], {});\n",
              "          if (!dataTable) return;\n",
              "\n",
              "          const docLinkHtml = 'Like what you see? Visit the ' +\n",
              "            '<a target=\"_blank\" href=https://colab.research.google.com/notebooks/data_table.ipynb>data table notebook</a>'\n",
              "            + ' to learn more about interactive tables.';\n",
              "          element.innerHTML = '';\n",
              "          dataTable['output_type'] = 'display_data';\n",
              "          await google.colab.output.renderOutput(dataTable, element);\n",
              "          const docLink = document.createElement('div');\n",
              "          docLink.innerHTML = docLinkHtml;\n",
              "          element.appendChild(docLink);\n",
              "        }\n",
              "      </script>\n",
              "    </div>\n",
              "  </div>\n",
              "  "
            ]
          },
          "metadata": {},
          "execution_count": 83
        }
      ]
    },
    {
      "cell_type": "code",
      "source": [
        "# last 5 observations from the datasets\n",
        "df.tail()"
      ],
      "metadata": {
        "colab": {
          "base_uri": "https://localhost:8080/",
          "height": 206
        },
        "id": "5LyvHhO0IArB",
        "outputId": "ae44321e-cdc0-4ac7-90ac-aac894a04e07"
      },
      "execution_count": 84,
      "outputs": [
        {
          "output_type": "execute_result",
          "data": {
            "text/plain": [
              "               0           1\n",
              "1106 -115.366669  121.000000\n",
              "1107 -119.954237  123.609122\n",
              "1108 -109.942155  127.197394\n",
              "1109 -111.515368  128.170885\n",
              "1110 -110.344221  123.087950"
            ],
            "text/html": [
              "\n",
              "  <div id=\"df-3d865586-d0b3-4a0c-a5cb-b225ea9809cd\">\n",
              "    <div class=\"colab-df-container\">\n",
              "      <div>\n",
              "<style scoped>\n",
              "    .dataframe tbody tr th:only-of-type {\n",
              "        vertical-align: middle;\n",
              "    }\n",
              "\n",
              "    .dataframe tbody tr th {\n",
              "        vertical-align: top;\n",
              "    }\n",
              "\n",
              "    .dataframe thead th {\n",
              "        text-align: right;\n",
              "    }\n",
              "</style>\n",
              "<table border=\"1\" class=\"dataframe\">\n",
              "  <thead>\n",
              "    <tr style=\"text-align: right;\">\n",
              "      <th></th>\n",
              "      <th>0</th>\n",
              "      <th>1</th>\n",
              "    </tr>\n",
              "  </thead>\n",
              "  <tbody>\n",
              "    <tr>\n",
              "      <th>1106</th>\n",
              "      <td>-115.366669</td>\n",
              "      <td>121.000000</td>\n",
              "    </tr>\n",
              "    <tr>\n",
              "      <th>1107</th>\n",
              "      <td>-119.954237</td>\n",
              "      <td>123.609122</td>\n",
              "    </tr>\n",
              "    <tr>\n",
              "      <th>1108</th>\n",
              "      <td>-109.942155</td>\n",
              "      <td>127.197394</td>\n",
              "    </tr>\n",
              "    <tr>\n",
              "      <th>1109</th>\n",
              "      <td>-111.515368</td>\n",
              "      <td>128.170885</td>\n",
              "    </tr>\n",
              "    <tr>\n",
              "      <th>1110</th>\n",
              "      <td>-110.344221</td>\n",
              "      <td>123.087950</td>\n",
              "    </tr>\n",
              "  </tbody>\n",
              "</table>\n",
              "</div>\n",
              "      <button class=\"colab-df-convert\" onclick=\"convertToInteractive('df-3d865586-d0b3-4a0c-a5cb-b225ea9809cd')\"\n",
              "              title=\"Convert this dataframe to an interactive table.\"\n",
              "              style=\"display:none;\">\n",
              "        \n",
              "  <svg xmlns=\"http://www.w3.org/2000/svg\" height=\"24px\"viewBox=\"0 0 24 24\"\n",
              "       width=\"24px\">\n",
              "    <path d=\"M0 0h24v24H0V0z\" fill=\"none\"/>\n",
              "    <path d=\"M18.56 5.44l.94 2.06.94-2.06 2.06-.94-2.06-.94-.94-2.06-.94 2.06-2.06.94zm-11 1L8.5 8.5l.94-2.06 2.06-.94-2.06-.94L8.5 2.5l-.94 2.06-2.06.94zm10 10l.94 2.06.94-2.06 2.06-.94-2.06-.94-.94-2.06-.94 2.06-2.06.94z\"/><path d=\"M17.41 7.96l-1.37-1.37c-.4-.4-.92-.59-1.43-.59-.52 0-1.04.2-1.43.59L10.3 9.45l-7.72 7.72c-.78.78-.78 2.05 0 2.83L4 21.41c.39.39.9.59 1.41.59.51 0 1.02-.2 1.41-.59l7.78-7.78 2.81-2.81c.8-.78.8-2.07 0-2.86zM5.41 20L4 18.59l7.72-7.72 1.47 1.35L5.41 20z\"/>\n",
              "  </svg>\n",
              "      </button>\n",
              "      \n",
              "  <style>\n",
              "    .colab-df-container {\n",
              "      display:flex;\n",
              "      flex-wrap:wrap;\n",
              "      gap: 12px;\n",
              "    }\n",
              "\n",
              "    .colab-df-convert {\n",
              "      background-color: #E8F0FE;\n",
              "      border: none;\n",
              "      border-radius: 50%;\n",
              "      cursor: pointer;\n",
              "      display: none;\n",
              "      fill: #1967D2;\n",
              "      height: 32px;\n",
              "      padding: 0 0 0 0;\n",
              "      width: 32px;\n",
              "    }\n",
              "\n",
              "    .colab-df-convert:hover {\n",
              "      background-color: #E2EBFA;\n",
              "      box-shadow: 0px 1px 2px rgba(60, 64, 67, 0.3), 0px 1px 3px 1px rgba(60, 64, 67, 0.15);\n",
              "      fill: #174EA6;\n",
              "    }\n",
              "\n",
              "    [theme=dark] .colab-df-convert {\n",
              "      background-color: #3B4455;\n",
              "      fill: #D2E3FC;\n",
              "    }\n",
              "\n",
              "    [theme=dark] .colab-df-convert:hover {\n",
              "      background-color: #434B5C;\n",
              "      box-shadow: 0px 1px 3px 1px rgba(0, 0, 0, 0.15);\n",
              "      filter: drop-shadow(0px 1px 2px rgba(0, 0, 0, 0.3));\n",
              "      fill: #FFFFFF;\n",
              "    }\n",
              "  </style>\n",
              "\n",
              "      <script>\n",
              "        const buttonEl =\n",
              "          document.querySelector('#df-3d865586-d0b3-4a0c-a5cb-b225ea9809cd button.colab-df-convert');\n",
              "        buttonEl.style.display =\n",
              "          google.colab.kernel.accessAllowed ? 'block' : 'none';\n",
              "\n",
              "        async function convertToInteractive(key) {\n",
              "          const element = document.querySelector('#df-3d865586-d0b3-4a0c-a5cb-b225ea9809cd');\n",
              "          const dataTable =\n",
              "            await google.colab.kernel.invokeFunction('convertToInteractive',\n",
              "                                                     [key], {});\n",
              "          if (!dataTable) return;\n",
              "\n",
              "          const docLinkHtml = 'Like what you see? Visit the ' +\n",
              "            '<a target=\"_blank\" href=https://colab.research.google.com/notebooks/data_table.ipynb>data table notebook</a>'\n",
              "            + ' to learn more about interactive tables.';\n",
              "          element.innerHTML = '';\n",
              "          dataTable['output_type'] = 'display_data';\n",
              "          await google.colab.output.renderOutput(dataTable, element);\n",
              "          const docLink = document.createElement('div');\n",
              "          docLink.innerHTML = docLinkHtml;\n",
              "          element.appendChild(docLink);\n",
              "        }\n",
              "      </script>\n",
              "    </div>\n",
              "  </div>\n",
              "  "
            ]
          },
          "metadata": {},
          "execution_count": 84
        }
      ]
    },
    {
      "cell_type": "code",
      "source": [
        "# Chech details about the datasets\n",
        "df.info()"
      ],
      "metadata": {
        "colab": {
          "base_uri": "https://localhost:8080/"
        },
        "id": "ubYcti_ZIH2G",
        "outputId": "28aacb49-9e9a-4a84-ccb2-995f5dc5b311"
      },
      "execution_count": 85,
      "outputs": [
        {
          "output_type": "stream",
          "name": "stdout",
          "text": [
            "<class 'pandas.core.frame.DataFrame'>\n",
            "RangeIndex: 1111 entries, 0 to 1110\n",
            "Data columns (total 2 columns):\n",
            " #   Column  Non-Null Count  Dtype  \n",
            "---  ------  --------------  -----  \n",
            " 0   0       1111 non-null   float64\n",
            " 1   1       1111 non-null   float64\n",
            "dtypes: float64(2)\n",
            "memory usage: 17.5 KB\n"
          ]
        }
      ]
    },
    {
      "cell_type": "code",
      "source": [
        "#Looking for the Descriptions of the datasets to get the insight of the data\n",
        "df.describe()"
      ],
      "metadata": {
        "colab": {
          "base_uri": "https://localhost:8080/",
          "height": 300
        },
        "id": "OvlacE-TJhS4",
        "outputId": "067d753d-5cae-4bb4-e530-2e2c9a468727"
      },
      "execution_count": 86,
      "outputs": [
        {
          "output_type": "execute_result",
          "data": {
            "text/plain": [
              "                 0            1\n",
              "count  1111.000000  1111.000000\n",
              "mean      6.783026   -26.187358\n",
              "std      79.383668    69.794973\n",
              "min    -134.962839  -132.422167\n",
              "25%     -53.521987   -77.000000\n",
              "50%      15.737782   -46.072638\n",
              "75%      76.134647     7.435231\n",
              "max     134.605775   134.425495"
            ],
            "text/html": [
              "\n",
              "  <div id=\"df-266356f6-deca-4520-9f8f-7d72a825d7d0\">\n",
              "    <div class=\"colab-df-container\">\n",
              "      <div>\n",
              "<style scoped>\n",
              "    .dataframe tbody tr th:only-of-type {\n",
              "        vertical-align: middle;\n",
              "    }\n",
              "\n",
              "    .dataframe tbody tr th {\n",
              "        vertical-align: top;\n",
              "    }\n",
              "\n",
              "    .dataframe thead th {\n",
              "        text-align: right;\n",
              "    }\n",
              "</style>\n",
              "<table border=\"1\" class=\"dataframe\">\n",
              "  <thead>\n",
              "    <tr style=\"text-align: right;\">\n",
              "      <th></th>\n",
              "      <th>0</th>\n",
              "      <th>1</th>\n",
              "    </tr>\n",
              "  </thead>\n",
              "  <tbody>\n",
              "    <tr>\n",
              "      <th>count</th>\n",
              "      <td>1111.000000</td>\n",
              "      <td>1111.000000</td>\n",
              "    </tr>\n",
              "    <tr>\n",
              "      <th>mean</th>\n",
              "      <td>6.783026</td>\n",
              "      <td>-26.187358</td>\n",
              "    </tr>\n",
              "    <tr>\n",
              "      <th>std</th>\n",
              "      <td>79.383668</td>\n",
              "      <td>69.794973</td>\n",
              "    </tr>\n",
              "    <tr>\n",
              "      <th>min</th>\n",
              "      <td>-134.962839</td>\n",
              "      <td>-132.422167</td>\n",
              "    </tr>\n",
              "    <tr>\n",
              "      <th>25%</th>\n",
              "      <td>-53.521987</td>\n",
              "      <td>-77.000000</td>\n",
              "    </tr>\n",
              "    <tr>\n",
              "      <th>50%</th>\n",
              "      <td>15.737782</td>\n",
              "      <td>-46.072638</td>\n",
              "    </tr>\n",
              "    <tr>\n",
              "      <th>75%</th>\n",
              "      <td>76.134647</td>\n",
              "      <td>7.435231</td>\n",
              "    </tr>\n",
              "    <tr>\n",
              "      <th>max</th>\n",
              "      <td>134.605775</td>\n",
              "      <td>134.425495</td>\n",
              "    </tr>\n",
              "  </tbody>\n",
              "</table>\n",
              "</div>\n",
              "      <button class=\"colab-df-convert\" onclick=\"convertToInteractive('df-266356f6-deca-4520-9f8f-7d72a825d7d0')\"\n",
              "              title=\"Convert this dataframe to an interactive table.\"\n",
              "              style=\"display:none;\">\n",
              "        \n",
              "  <svg xmlns=\"http://www.w3.org/2000/svg\" height=\"24px\"viewBox=\"0 0 24 24\"\n",
              "       width=\"24px\">\n",
              "    <path d=\"M0 0h24v24H0V0z\" fill=\"none\"/>\n",
              "    <path d=\"M18.56 5.44l.94 2.06.94-2.06 2.06-.94-2.06-.94-.94-2.06-.94 2.06-2.06.94zm-11 1L8.5 8.5l.94-2.06 2.06-.94-2.06-.94L8.5 2.5l-.94 2.06-2.06.94zm10 10l.94 2.06.94-2.06 2.06-.94-2.06-.94-.94-2.06-.94 2.06-2.06.94z\"/><path d=\"M17.41 7.96l-1.37-1.37c-.4-.4-.92-.59-1.43-.59-.52 0-1.04.2-1.43.59L10.3 9.45l-7.72 7.72c-.78.78-.78 2.05 0 2.83L4 21.41c.39.39.9.59 1.41.59.51 0 1.02-.2 1.41-.59l7.78-7.78 2.81-2.81c.8-.78.8-2.07 0-2.86zM5.41 20L4 18.59l7.72-7.72 1.47 1.35L5.41 20z\"/>\n",
              "  </svg>\n",
              "      </button>\n",
              "      \n",
              "  <style>\n",
              "    .colab-df-container {\n",
              "      display:flex;\n",
              "      flex-wrap:wrap;\n",
              "      gap: 12px;\n",
              "    }\n",
              "\n",
              "    .colab-df-convert {\n",
              "      background-color: #E8F0FE;\n",
              "      border: none;\n",
              "      border-radius: 50%;\n",
              "      cursor: pointer;\n",
              "      display: none;\n",
              "      fill: #1967D2;\n",
              "      height: 32px;\n",
              "      padding: 0 0 0 0;\n",
              "      width: 32px;\n",
              "    }\n",
              "\n",
              "    .colab-df-convert:hover {\n",
              "      background-color: #E2EBFA;\n",
              "      box-shadow: 0px 1px 2px rgba(60, 64, 67, 0.3), 0px 1px 3px 1px rgba(60, 64, 67, 0.15);\n",
              "      fill: #174EA6;\n",
              "    }\n",
              "\n",
              "    [theme=dark] .colab-df-convert {\n",
              "      background-color: #3B4455;\n",
              "      fill: #D2E3FC;\n",
              "    }\n",
              "\n",
              "    [theme=dark] .colab-df-convert:hover {\n",
              "      background-color: #434B5C;\n",
              "      box-shadow: 0px 1px 3px 1px rgba(0, 0, 0, 0.15);\n",
              "      filter: drop-shadow(0px 1px 2px rgba(0, 0, 0, 0.3));\n",
              "      fill: #FFFFFF;\n",
              "    }\n",
              "  </style>\n",
              "\n",
              "      <script>\n",
              "        const buttonEl =\n",
              "          document.querySelector('#df-266356f6-deca-4520-9f8f-7d72a825d7d0 button.colab-df-convert');\n",
              "        buttonEl.style.display =\n",
              "          google.colab.kernel.accessAllowed ? 'block' : 'none';\n",
              "\n",
              "        async function convertToInteractive(key) {\n",
              "          const element = document.querySelector('#df-266356f6-deca-4520-9f8f-7d72a825d7d0');\n",
              "          const dataTable =\n",
              "            await google.colab.kernel.invokeFunction('convertToInteractive',\n",
              "                                                     [key], {});\n",
              "          if (!dataTable) return;\n",
              "\n",
              "          const docLinkHtml = 'Like what you see? Visit the ' +\n",
              "            '<a target=\"_blank\" href=https://colab.research.google.com/notebooks/data_table.ipynb>data table notebook</a>'\n",
              "            + ' to learn more about interactive tables.';\n",
              "          element.innerHTML = '';\n",
              "          dataTable['output_type'] = 'display_data';\n",
              "          await google.colab.output.renderOutput(dataTable, element);\n",
              "          const docLink = document.createElement('div');\n",
              "          docLink.innerHTML = docLinkHtml;\n",
              "          element.appendChild(docLink);\n",
              "        }\n",
              "      </script>\n",
              "    </div>\n",
              "  </div>\n",
              "  "
            ]
          },
          "metadata": {},
          "execution_count": 86
        }
      ]
    },
    {
      "cell_type": "markdown",
      "source": [
        "# Preprocessing the datasets"
      ],
      "metadata": {
        "id": "9jopAgpXKS9G"
      }
    },
    {
      "cell_type": "code",
      "source": [
        "# Numbers of null values in the datasets\n",
        "df.isnull().sum()"
      ],
      "metadata": {
        "colab": {
          "base_uri": "https://localhost:8080/"
        },
        "id": "ZdFVzg8fJ9ZU",
        "outputId": "d4a2e783-f226-42ce-b738-bed608c33abc"
      },
      "execution_count": 87,
      "outputs": [
        {
          "output_type": "execute_result",
          "data": {
            "text/plain": [
              "0    0\n",
              "1    0\n",
              "dtype: int64"
            ]
          },
          "metadata": {},
          "execution_count": 87
        }
      ]
    },
    {
      "cell_type": "code",
      "source": [
        "# To find the duplicate data in the data\n",
        "df[df.duplicated()]"
      ],
      "metadata": {
        "colab": {
          "base_uri": "https://localhost:8080/",
          "height": 708
        },
        "id": "dbnml05cKYFX",
        "outputId": "903f75d8-a91d-42cc-9342-94187ed9b645"
      },
      "execution_count": 88,
      "outputs": [
        {
          "output_type": "execute_result",
          "data": {
            "text/plain": [
              "               0      1\n",
              "106   -63.366669  -33.0\n",
              "464   112.633331  103.0\n",
              "715   -31.366669  -49.0\n",
              "819  -117.366669  -75.0\n",
              "865  -131.366669 -125.0\n",
              "900    20.633331  -95.0\n",
              "908    12.633331  -95.0\n",
              "920     2.633331  -95.0\n",
              "924     3.633331  -95.0\n",
              "932     6.633331  -95.0\n",
              "1068  116.633331  118.0\n",
              "1074 -125.366669  131.0\n",
              "1075 -125.366669  131.0\n",
              "1078 -125.366669  131.0\n",
              "1080 -125.366669  131.0\n",
              "1082 -125.366669  131.0\n",
              "1084 -125.366669  131.0\n",
              "1087 -125.366669  131.0\n",
              "1089 -125.366669  131.0\n",
              "1096 -124.366669  121.0\n",
              "1106 -115.366669  121.0"
            ],
            "text/html": [
              "\n",
              "  <div id=\"df-d31feac8-0724-4e66-be58-e4945363a430\">\n",
              "    <div class=\"colab-df-container\">\n",
              "      <div>\n",
              "<style scoped>\n",
              "    .dataframe tbody tr th:only-of-type {\n",
              "        vertical-align: middle;\n",
              "    }\n",
              "\n",
              "    .dataframe tbody tr th {\n",
              "        vertical-align: top;\n",
              "    }\n",
              "\n",
              "    .dataframe thead th {\n",
              "        text-align: right;\n",
              "    }\n",
              "</style>\n",
              "<table border=\"1\" class=\"dataframe\">\n",
              "  <thead>\n",
              "    <tr style=\"text-align: right;\">\n",
              "      <th></th>\n",
              "      <th>0</th>\n",
              "      <th>1</th>\n",
              "    </tr>\n",
              "  </thead>\n",
              "  <tbody>\n",
              "    <tr>\n",
              "      <th>106</th>\n",
              "      <td>-63.366669</td>\n",
              "      <td>-33.0</td>\n",
              "    </tr>\n",
              "    <tr>\n",
              "      <th>464</th>\n",
              "      <td>112.633331</td>\n",
              "      <td>103.0</td>\n",
              "    </tr>\n",
              "    <tr>\n",
              "      <th>715</th>\n",
              "      <td>-31.366669</td>\n",
              "      <td>-49.0</td>\n",
              "    </tr>\n",
              "    <tr>\n",
              "      <th>819</th>\n",
              "      <td>-117.366669</td>\n",
              "      <td>-75.0</td>\n",
              "    </tr>\n",
              "    <tr>\n",
              "      <th>865</th>\n",
              "      <td>-131.366669</td>\n",
              "      <td>-125.0</td>\n",
              "    </tr>\n",
              "    <tr>\n",
              "      <th>900</th>\n",
              "      <td>20.633331</td>\n",
              "      <td>-95.0</td>\n",
              "    </tr>\n",
              "    <tr>\n",
              "      <th>908</th>\n",
              "      <td>12.633331</td>\n",
              "      <td>-95.0</td>\n",
              "    </tr>\n",
              "    <tr>\n",
              "      <th>920</th>\n",
              "      <td>2.633331</td>\n",
              "      <td>-95.0</td>\n",
              "    </tr>\n",
              "    <tr>\n",
              "      <th>924</th>\n",
              "      <td>3.633331</td>\n",
              "      <td>-95.0</td>\n",
              "    </tr>\n",
              "    <tr>\n",
              "      <th>932</th>\n",
              "      <td>6.633331</td>\n",
              "      <td>-95.0</td>\n",
              "    </tr>\n",
              "    <tr>\n",
              "      <th>1068</th>\n",
              "      <td>116.633331</td>\n",
              "      <td>118.0</td>\n",
              "    </tr>\n",
              "    <tr>\n",
              "      <th>1074</th>\n",
              "      <td>-125.366669</td>\n",
              "      <td>131.0</td>\n",
              "    </tr>\n",
              "    <tr>\n",
              "      <th>1075</th>\n",
              "      <td>-125.366669</td>\n",
              "      <td>131.0</td>\n",
              "    </tr>\n",
              "    <tr>\n",
              "      <th>1078</th>\n",
              "      <td>-125.366669</td>\n",
              "      <td>131.0</td>\n",
              "    </tr>\n",
              "    <tr>\n",
              "      <th>1080</th>\n",
              "      <td>-125.366669</td>\n",
              "      <td>131.0</td>\n",
              "    </tr>\n",
              "    <tr>\n",
              "      <th>1082</th>\n",
              "      <td>-125.366669</td>\n",
              "      <td>131.0</td>\n",
              "    </tr>\n",
              "    <tr>\n",
              "      <th>1084</th>\n",
              "      <td>-125.366669</td>\n",
              "      <td>131.0</td>\n",
              "    </tr>\n",
              "    <tr>\n",
              "      <th>1087</th>\n",
              "      <td>-125.366669</td>\n",
              "      <td>131.0</td>\n",
              "    </tr>\n",
              "    <tr>\n",
              "      <th>1089</th>\n",
              "      <td>-125.366669</td>\n",
              "      <td>131.0</td>\n",
              "    </tr>\n",
              "    <tr>\n",
              "      <th>1096</th>\n",
              "      <td>-124.366669</td>\n",
              "      <td>121.0</td>\n",
              "    </tr>\n",
              "    <tr>\n",
              "      <th>1106</th>\n",
              "      <td>-115.366669</td>\n",
              "      <td>121.0</td>\n",
              "    </tr>\n",
              "  </tbody>\n",
              "</table>\n",
              "</div>\n",
              "      <button class=\"colab-df-convert\" onclick=\"convertToInteractive('df-d31feac8-0724-4e66-be58-e4945363a430')\"\n",
              "              title=\"Convert this dataframe to an interactive table.\"\n",
              "              style=\"display:none;\">\n",
              "        \n",
              "  <svg xmlns=\"http://www.w3.org/2000/svg\" height=\"24px\"viewBox=\"0 0 24 24\"\n",
              "       width=\"24px\">\n",
              "    <path d=\"M0 0h24v24H0V0z\" fill=\"none\"/>\n",
              "    <path d=\"M18.56 5.44l.94 2.06.94-2.06 2.06-.94-2.06-.94-.94-2.06-.94 2.06-2.06.94zm-11 1L8.5 8.5l.94-2.06 2.06-.94-2.06-.94L8.5 2.5l-.94 2.06-2.06.94zm10 10l.94 2.06.94-2.06 2.06-.94-2.06-.94-.94-2.06-.94 2.06-2.06.94z\"/><path d=\"M17.41 7.96l-1.37-1.37c-.4-.4-.92-.59-1.43-.59-.52 0-1.04.2-1.43.59L10.3 9.45l-7.72 7.72c-.78.78-.78 2.05 0 2.83L4 21.41c.39.39.9.59 1.41.59.51 0 1.02-.2 1.41-.59l7.78-7.78 2.81-2.81c.8-.78.8-2.07 0-2.86zM5.41 20L4 18.59l7.72-7.72 1.47 1.35L5.41 20z\"/>\n",
              "  </svg>\n",
              "      </button>\n",
              "      \n",
              "  <style>\n",
              "    .colab-df-container {\n",
              "      display:flex;\n",
              "      flex-wrap:wrap;\n",
              "      gap: 12px;\n",
              "    }\n",
              "\n",
              "    .colab-df-convert {\n",
              "      background-color: #E8F0FE;\n",
              "      border: none;\n",
              "      border-radius: 50%;\n",
              "      cursor: pointer;\n",
              "      display: none;\n",
              "      fill: #1967D2;\n",
              "      height: 32px;\n",
              "      padding: 0 0 0 0;\n",
              "      width: 32px;\n",
              "    }\n",
              "\n",
              "    .colab-df-convert:hover {\n",
              "      background-color: #E2EBFA;\n",
              "      box-shadow: 0px 1px 2px rgba(60, 64, 67, 0.3), 0px 1px 3px 1px rgba(60, 64, 67, 0.15);\n",
              "      fill: #174EA6;\n",
              "    }\n",
              "\n",
              "    [theme=dark] .colab-df-convert {\n",
              "      background-color: #3B4455;\n",
              "      fill: #D2E3FC;\n",
              "    }\n",
              "\n",
              "    [theme=dark] .colab-df-convert:hover {\n",
              "      background-color: #434B5C;\n",
              "      box-shadow: 0px 1px 3px 1px rgba(0, 0, 0, 0.15);\n",
              "      filter: drop-shadow(0px 1px 2px rgba(0, 0, 0, 0.3));\n",
              "      fill: #FFFFFF;\n",
              "    }\n",
              "  </style>\n",
              "\n",
              "      <script>\n",
              "        const buttonEl =\n",
              "          document.querySelector('#df-d31feac8-0724-4e66-be58-e4945363a430 button.colab-df-convert');\n",
              "        buttonEl.style.display =\n",
              "          google.colab.kernel.accessAllowed ? 'block' : 'none';\n",
              "\n",
              "        async function convertToInteractive(key) {\n",
              "          const element = document.querySelector('#df-d31feac8-0724-4e66-be58-e4945363a430');\n",
              "          const dataTable =\n",
              "            await google.colab.kernel.invokeFunction('convertToInteractive',\n",
              "                                                     [key], {});\n",
              "          if (!dataTable) return;\n",
              "\n",
              "          const docLinkHtml = 'Like what you see? Visit the ' +\n",
              "            '<a target=\"_blank\" href=https://colab.research.google.com/notebooks/data_table.ipynb>data table notebook</a>'\n",
              "            + ' to learn more about interactive tables.';\n",
              "          element.innerHTML = '';\n",
              "          dataTable['output_type'] = 'display_data';\n",
              "          await google.colab.output.renderOutput(dataTable, element);\n",
              "          const docLink = document.createElement('div');\n",
              "          docLink.innerHTML = docLinkHtml;\n",
              "          element.appendChild(docLink);\n",
              "        }\n",
              "      </script>\n",
              "    </div>\n",
              "  </div>\n",
              "  "
            ]
          },
          "metadata": {},
          "execution_count": 88
        }
      ]
    },
    {
      "cell_type": "code",
      "source": [
        "# Length of the Duplicate Date in the datasets\n",
        "value = len(df[df.duplicated()])\n",
        "print(\"The number of duplicate data present in our data is\", value)"
      ],
      "metadata": {
        "colab": {
          "base_uri": "https://localhost:8080/"
        },
        "id": "6P1YCUtvKpRm",
        "outputId": "9eb1dec4-c8e9-42c3-c370-575667e77df9"
      },
      "execution_count": 89,
      "outputs": [
        {
          "output_type": "stream",
          "name": "stdout",
          "text": [
            "The number of duplicate data present in our data is 21\n"
          ]
        }
      ]
    },
    {
      "cell_type": "code",
      "source": [
        "# Remove the duplicate data from the datasets\n",
        "df.drop_duplicates(keep = False, inplace = True)"
      ],
      "metadata": {
        "id": "4XPpvV3ALllX"
      },
      "execution_count": 90,
      "outputs": []
    },
    {
      "cell_type": "code",
      "source": [
        "len(df[df.duplicated()])"
      ],
      "metadata": {
        "colab": {
          "base_uri": "https://localhost:8080/"
        },
        "id": "KiIFOUSnMzK-",
        "outputId": "b8827be5-8b2f-4010-b6fc-b2d702ce691b"
      },
      "execution_count": 91,
      "outputs": [
        {
          "output_type": "execute_result",
          "data": {
            "text/plain": [
              "0"
            ]
          },
          "metadata": {},
          "execution_count": 91
        }
      ]
    },
    {
      "cell_type": "code",
      "source": [
        "plt.figure(figsize = (10,5))\n",
        "sns.barplot(data =df, x = 0,y = 1)"
      ],
      "metadata": {
        "colab": {
          "base_uri": "https://localhost:8080/",
          "height": 351
        },
        "id": "T3YyU0GsM0L0",
        "outputId": "5ff1d0b7-def5-4d0c-9f70-58d1f570e8e4"
      },
      "execution_count": 92,
      "outputs": [
        {
          "output_type": "execute_result",
          "data": {
            "text/plain": [
              "<matplotlib.axes._subplots.AxesSubplot at 0x7fc141ed9750>"
            ]
          },
          "metadata": {},
          "execution_count": 92
        },
        {
          "output_type": "display_data",
          "data": {
            "text/plain": [
              "<Figure size 720x360 with 1 Axes>"
            ],
            "image/png": "[encoded data removed]"
          },
          "metadata": {
            "needs_background": "light"
          }
        }
      ]
    },
    {
      "cell_type": "code",
      "source": [
        "plt.figure(figsize=(10,5))\n",
        "sns.boxplot(df[0])\n",
        "plt.ylabel(1)\n",
        "plt.show()"
      ],
      "metadata": {
        "colab": {
          "base_uri": "https://localhost:8080/",
          "height": 389
        },
        "id": "j40UE4oYQO7R",
        "outputId": "77713b78-ea3a-4e24-8beb-2aa124b5cba2"
      },
      "execution_count": 93,
      "outputs": [
        {
          "output_type": "stream",
          "name": "stderr",
          "text": [
            "/usr/local/lib/python3.7/dist-packages/seaborn/_decorators.py:43: FutureWarning: Pass the following variable as a keyword arg: x. From version 0.12, the only valid positional argument will be `data`, and passing other arguments without an explicit keyword will result in an error or misinterpretation.\n",
            "  FutureWarning\n"
          ]
        },
        {
          "output_type": "display_data",
          "data": {
            "text/plain": [
              "<Figure size 720x360 with 1 Axes>"
            ],
            "image/png": "[encoded data removed]"
          },
          "metadata": {
            "needs_background": "light"
          }
        }
      ]
    },
    {
      "cell_type": "markdown",
      "source": [
        "There is no Outliers present in the 1st Columns"
      ],
      "metadata": {
        "id": "cJnmlzZLQWUB"
      }
    },
    {
      "cell_type": "code",
      "source": [
        "plt.figure(figsize=(10,5))\n",
        "sns.boxplot(df[1])\n",
        "plt.show()"
      ],
      "metadata": {
        "colab": {
          "base_uri": "https://localhost:8080/",
          "height": 389
        },
        "id": "aOPnr7onQbqa",
        "outputId": "967d0cb4-3ac4-4565-cc99-8cc5da84c48b"
      },
      "execution_count": 94,
      "outputs": [
        {
          "output_type": "stream",
          "name": "stderr",
          "text": [
            "/usr/local/lib/python3.7/dist-packages/seaborn/_decorators.py:43: FutureWarning: Pass the following variable as a keyword arg: x. From version 0.12, the only valid positional argument will be `data`, and passing other arguments without an explicit keyword will result in an error or misinterpretation.\n",
            "  FutureWarning\n"
          ]
        },
        {
          "output_type": "display_data",
          "data": {
            "text/plain": [
              "<Figure size 720x360 with 1 Axes>"
            ],
            "image/png": "[encoded data removed]"
          },
          "metadata": {
            "needs_background": "light"
          }
        }
      ]
    },
    {
      "cell_type": "markdown",
      "source": [
        "There are some outliers present in the 2nd Column as shown in above plot"
      ],
      "metadata": {
        "id": "4CEAgAwzQnyR"
      }
    },
    {
      "cell_type": "markdown",
      "source": [
        "#Heatmap"
      ],
      "metadata": {
        "id": "LVnVU7MaQ17E"
      }
    },
    {
      "cell_type": "code",
      "source": [
        "plt.figure(figsize=(15,8))\n",
        "correlation = df.corr()\n",
        "sns.heatmap(correlation, annot=True, cmap='coolwarm')"
      ],
      "metadata": {
        "colab": {
          "base_uri": "https://localhost:8080/",
          "height": 504
        },
        "id": "vW20KzAdQtu2",
        "outputId": "e4b264a2-f404-4447-874e-0883f5f23b19"
      },
      "execution_count": 95,
      "outputs": [
        {
          "output_type": "execute_result",
          "data": {
            "text/plain": [
              "<matplotlib.axes._subplots.AxesSubplot at 0x7fc13b893350>"
            ]
          },
          "metadata": {},
          "execution_count": 95
        },
        {
          "output_type": "display_data",
          "data": {
            "text/plain": [
              "<Figure size 1080x576 with 2 Axes>"
            ],
            "image/png": "[encoded data removed]"
          },
          "metadata": {
            "needs_background": "light"
          }
        }
      ]
    },
    {
      "cell_type": "markdown",
      "source": [
        "# Model Training"
      ],
      "metadata": {
        "id": "ssFgu4HcRJP4"
      }
    },
    {
      "cell_type": "code",
      "source": [
        "from sklearn.model_selection import train_test_split\n",
        "from sklearn.linear_model import LinearRegression\n",
        "from sklearn.metrics import r2_score\n",
        "from sklearn.metrics import mean_squared_error"
      ],
      "metadata": {
        "id": "A2XVXBwMTZxi"
      },
      "execution_count": 96,
      "outputs": []
    },
    {
      "cell_type": "markdown",
      "source": [
        "### TRAIN TEST SPLIT"
      ],
      "metadata": {
        "id": "VZeKfgzORs6Y"
      }
    },
    {
      "cell_type": "code",
      "source": [
        "# Assign the value of X and y\n",
        "X = df.iloc[:,0]\n",
        "y = df.iloc[:,1]\n"
      ],
      "metadata": {
        "id": "FwZ5yfRkRzoM"
      },
      "execution_count": 97,
      "outputs": []
    },
    {
      "cell_type": "code",
      "source": [
        "# top 5 observations of independent Variables\n",
        "X.head()"
      ],
      "metadata": {
        "colab": {
          "base_uri": "https://localhost:8080/"
        },
        "id": "cV1oEmAvSPx1",
        "outputId": "42c3ecbd-dafe-4b9b-83af-abe5b89291e3"
      },
      "execution_count": 98,
      "outputs": [
        {
          "output_type": "execute_result",
          "data": {
            "text/plain": [
              "0   -122.740667\n",
              "1   -121.531419\n",
              "2   -134.917019\n",
              "3   -120.605951\n",
              "4   -129.894781\n",
              "Name: 0, dtype: float64"
            ]
          },
          "metadata": {},
          "execution_count": 98
        }
      ]
    },
    {
      "cell_type": "code",
      "source": [
        "# top 5 observations of Dependent Variables\n",
        "y.head()"
      ],
      "metadata": {
        "colab": {
          "base_uri": "https://localhost:8080/"
        },
        "id": "HgjoROQzScDz",
        "outputId": "3e4feabc-a31d-4055-e7f2-d2453c5261ef"
      },
      "execution_count": 99,
      "outputs": [
        {
          "output_type": "execute_result",
          "data": {
            "text/plain": [
              "0   -130.572085\n",
              "1   -129.938929\n",
              "2   -130.141832\n",
              "3   -125.760932\n",
              "4   -112.785214\n",
              "Name: 1, dtype: float64"
            ]
          },
          "metadata": {},
          "execution_count": 99
        }
      ]
    },
    {
      "cell_type": "code",
      "source": [
        "# split train and test data\n",
        "X_train, X_test, y_train, y_test = train_test_split(X, y, test_size = 0.2, random_state = 20)"
      ],
      "metadata": {
        "id": "emstOgiFSrCF"
      },
      "execution_count": 100,
      "outputs": []
    },
    {
      "cell_type": "code",
      "source": [
        "X_train.shape, X_test.shape"
      ],
      "metadata": {
        "colab": {
          "base_uri": "https://localhost:8080/"
        },
        "id": "ozln63VKSxCs",
        "outputId": "e2f77345-a379-4318-c1e7-d7724bdc2e99"
      },
      "execution_count": 101,
      "outputs": [
        {
          "output_type": "execute_result",
          "data": {
            "text/plain": [
              "((860,), (216,))"
            ]
          },
          "metadata": {},
          "execution_count": 101
        }
      ]
    },
    {
      "cell_type": "markdown",
      "source": [
        "##Linear Regression"
      ],
      "metadata": {
        "id": "h4q0se_SUAgt"
      }
    },
    {
      "cell_type": "code",
      "source": [
        "from sklearn.linear_model import LinearRegression\n",
        "regressor = LinearRegression()\n",
        "regressor.fit(X.values.reshape(-1,1), y)"
      ],
      "metadata": {
        "colab": {
          "base_uri": "https://localhost:8080/"
        },
        "id": "BOB38jwET6e7",
        "outputId": "531f2eed-4e84-471b-ab7d-3cb2f7b30b9c"
      },
      "execution_count": 115,
      "outputs": [
        {
          "output_type": "execute_result",
          "data": {
            "text/plain": [
              "LinearRegression()"
            ]
          },
          "metadata": {},
          "execution_count": 115
        }
      ]
    },
    {
      "cell_type": "code",
      "source": [
        "#Chech the coefficient\n",
        "regressor.coef_"
      ],
      "metadata": {
        "colab": {
          "base_uri": "https://localhost:8080/"
        },
        "id": "jBsQM_q8YT6p",
        "outputId": "e6d341c0-26eb-4092-eba6-cad83dfec463"
      },
      "execution_count": 118,
      "outputs": [
        {
          "output_type": "execute_result",
          "data": {
            "text/plain": [
              "array([0.44692062])"
            ]
          },
          "metadata": {},
          "execution_count": 118
        }
      ]
    },
    {
      "cell_type": "code",
      "source": [
        "# Check the Intercept\n",
        "regressor.intercept_"
      ],
      "metadata": {
        "colab": {
          "base_uri": "https://localhost:8080/"
        },
        "id": "nbs1n5gPYeVZ",
        "outputId": "149bdc74-fd4a-494e-c3a9-c1c66177d97f"
      },
      "execution_count": 119,
      "outputs": [
        {
          "output_type": "execute_result",
          "data": {
            "text/plain": [
              "-31.442823186714012"
            ]
          },
          "metadata": {},
          "execution_count": 119
        }
      ]
    },
    {
      "cell_type": "code",
      "source": [
        "y_pred_train = regressor.predict(X_train.values.reshape(-1,1))\n"
      ],
      "metadata": {
        "id": "1WqRp2T4YnZ8"
      },
      "execution_count": 122,
      "outputs": []
    },
    {
      "cell_type": "code",
      "source": [
        "y_pred_train"
      ],
      "metadata": {
        "colab": {
          "base_uri": "https://localhost:8080/"
        },
        "id": "sNOuaDjuZEa7",
        "outputId": "cd2c61cf-cd02-4688-b673-bb81213c148b"
      },
      "execution_count": 123,
      "outputs": [
        {
          "output_type": "execute_result",
          "data": {
            "text/plain": [
              "array([ 5.01753833e+00, -1.65656695e+01, -4.18858692e+01, -2.27784966e+01,\n",
              "       -4.05451073e+01,  4.22450762e+00, -1.50718555e+01, -4.03422241e+00,\n",
              "       -1.32829497e+01, -6.55666624e+01,  3.56133436e+00, -3.06521058e+01,\n",
              "       -6.24254654e+01,  2.18760972e+00,  5.69508949e+00, -5.36823942e+01,\n",
              "       -2.62436476e+01, -2.99637776e+01, -1.30760574e+01,  1.88656792e+01,\n",
              "        2.64520208e+01, -8.96597094e+01, -3.25897610e+01,  2.49843863e+01,\n",
              "       -2.86571841e+01,  1.94876236e+01, -8.61310104e+01, -4.89313442e+01,\n",
              "       -2.96189582e+01,  1.50765972e+01, -2.13275208e+01, -4.21668713e+01,\n",
              "        2.43872959e-01, -5.89783200e+01,  1.24489222e+01,  4.27269935e+00,\n",
              "       -3.69885095e+01, -1.20357474e+01, -3.22251747e-01,  1.97624093e+01,\n",
              "       -9.10471371e+01, -4.04966143e+01, -5.93157733e+01, -4.11590170e+01,\n",
              "       -1.11868039e+01, -4.10264697e+00, -3.59267876e+01, -6.81505614e+01,\n",
              "        1.85751816e+01, -6.15134252e+00, -4.13780202e+01, -3.22251747e-01,\n",
              "        9.06308123e+00,  1.08507637e+01, -1.31410530e+01,  2.81580342e+01,\n",
              "       -6.88972868e+01,  2.31562973e+00, -3.02960735e+01, -4.52200780e+00,\n",
              "       -5.30325399e+01,  2.74419416e+00, -6.58507574e+01, -3.83105043e+01,\n",
              "       -3.18659834e+01,  2.32249619e+01, -1.25744882e+01, -7.83277138e+01,\n",
              "       -4.66401812e+01, -8.97063753e+01,  9.95692246e+00,  3.01812098e+00,\n",
              "       -2.93720919e+01,  1.77973722e+01, -4.61144078e+01, -5.09613016e+01,\n",
              "       -6.41058187e+01,  2.11135486e+01, -1.26761818e+01, -1.04379128e+01,\n",
              "       -9.57680139e+00, -4.43078560e+01, -1.30666868e+01, -6.49112885e+01,\n",
              "       -9.26066410e+00, -3.52241841e+01, -5.04102621e+01,  7.07432990e+00,\n",
              "        6.65322212e+00, -7.70275824e+01, -6.51257413e+01, -1.94876711e+00,\n",
              "       -8.77127650e+01, -7.76395186e+01,  1.29534184e+01,  1.56995848e+01,\n",
              "        1.56299939e+01, -8.83656134e+01,  6.38155752e+00, -8.93483719e+01,\n",
              "        2.08770575e+01, -6.75667479e+01, -1.07558312e+01, -5.00012681e+00,\n",
              "        1.77788671e+01, -4.64065805e+01,  2.22987361e+01,  1.94711515e+01,\n",
              "        2.57793602e+01, -3.00377545e+00, -7.89054306e+01,  1.88953348e+01,\n",
              "        8.71550764e+00, -3.80675700e+01, -1.48736923e+00, -1.91277362e+01,\n",
              "       -3.66998453e+01, -4.23327898e+01, -8.16618042e+01, -8.16618042e+01,\n",
              "       -6.64149250e+01, -5.39487471e+01, -9.38730472e+00, -1.52014513e+01,\n",
              "        5.48771628e+00, -2.71403813e+01,  6.03226330e+00,  1.62138111e+01,\n",
              "       -8.34343673e+01, -8.48606133e+01, -2.67023653e+01,  2.80429879e+01,\n",
              "       -1.81830457e+01, -7.85950223e+01, -4.21946685e+01, -6.64665032e+01,\n",
              "       -5.17757910e+01, -9.03940482e+01, -8.70248516e+01, -5.26119640e+01,\n",
              "       -6.82541856e+01, -3.74166630e+01,  2.48319193e+01, -3.89923413e+01,\n",
              "       -3.20570142e+01, -2.27971896e+01, -7.46593101e+01,  2.25890688e+01,\n",
              "       -8.10706978e+01, -8.16618042e+01, -2.49028857e+01, -8.96654969e+01,\n",
              "       -1.77865140e+01, -2.09656022e+01,  1.30853668e+01, -6.64977604e+00,\n",
              "        2.80083604e+01,  2.09543164e+01,  2.15768585e+01, -3.58366844e+01,\n",
              "       -8.07679629e+01, -2.07522159e+00, -6.89577067e+01,  9.95692246e+00,\n",
              "       -2.71372321e+00, -3.09566880e+01, -5.86150153e+01, -2.05976515e+01,\n",
              "       -1.43322407e+00, -1.60814964e+01, -3.02575451e+01, -1.98817573e+01,\n",
              "        1.40241107e+01,  1.78395611e+00, -1.76215134e+01, -1.55175527e+01,\n",
              "       -8.00423415e+01, -2.14274071e+01,  1.29877632e+01, -2.26682826e+01,\n",
              "       -8.03210423e+01, -4.47605775e+01, -2.37802369e+01, -5.11200906e+00,\n",
              "       -8.50528450e+01, -8.40388982e+01, -4.43183788e+01, -8.51878673e+01,\n",
              "       -3.83105043e+01, -8.80397954e+01, -1.06014260e+01, -1.21060103e+01,\n",
              "       -7.99803887e+01, -4.32266310e+01, -1.66301360e+00,  1.38984119e+01,\n",
              "       -2.69724163e+01, -4.63550754e+01, -2.85655042e+01, -1.45198870e-01,\n",
              "        1.97640437e+01, -2.75844094e+01, -1.50497177e+00, -5.83256138e+01,\n",
              "       -7.09357093e+01, -2.32826427e+01, -8.69672285e+01, -8.31531616e+01,\n",
              "       -1.41197471e+01, -6.22260178e+01, -5.29296514e+01,  4.59387505e+00,\n",
              "       -1.84412509e+01, -8.58122996e+01,  1.24181434e+01, -2.50401579e+01,\n",
              "       -2.22213620e+01, -3.18120562e+01, -7.74577626e+01, -1.66023149e+01,\n",
              "       -6.63929606e+01, -3.00859648e+00, -8.31138848e+01,  1.08507637e+01,\n",
              "       -6.95949475e+01, -7.13826300e+01, -8.58276319e+01,  4.59387505e+00,\n",
              "       -8.02646703e+01, -3.47250126e+01, -4.45785745e+01,  1.05070807e+01,\n",
              "        7.79044587e-01, -4.19721746e+01,  7.09819866e-02, -8.23752971e+01,\n",
              "        2.33645410e+01,  1.71076523e+01, -7.31166906e+01, -4.46924958e+01,\n",
              "       -4.60983730e+01,  8.61616061e+00,  1.21915256e+01, -7.33165107e+01,\n",
              "       -8.17070131e+01,  2.72000650e+00, -5.32376701e+01, -2.63061996e+01,\n",
              "        4.69524185e-01, -2.62438321e+01, -5.23837854e+00, -3.36269133e+01,\n",
              "       -1.60352155e+01, -4.33170434e+01,  1.92467837e+01,  6.79937519e+00,\n",
              "        1.26543166e+01,  3.64827035e+00,  1.56046472e+01, -3.93813350e+01,\n",
              "       -2.40090445e+01, -6.71302230e+01,  2.63628918e+00,  1.18645621e+01,\n",
              "       -1.50706321e+01, -8.02815791e+01, -5.39527259e+01,  1.64550769e+01,\n",
              "        1.68612097e+01,  5.72118248e+00, -8.94740934e+00, -8.09546767e+01,\n",
              "        1.91235134e+00, -8.19794775e+01, -1.64113940e+01, -1.68178449e+01,\n",
              "        2.11299379e+01, -1.62392986e+01,  2.80619258e+00, -5.21238318e+01,\n",
              "        2.06830173e+01,  2.11126168e+01, -2.18032452e+01, -3.47351393e+01,\n",
              "       -3.88113826e+01,  2.24706998e+01,  1.05447718e+01,  1.71076523e+01,\n",
              "        1.08663700e+01, -2.58009959e+01, -8.26765156e+00, -8.53441094e+01,\n",
              "       -8.12877294e+01, -6.79876715e+01,  6.03470499e+00, -2.84520875e+01,\n",
              "       -2.49028857e+01, -3.10891204e+01,  4.24348623e+00, -8.18853720e+01,\n",
              "        1.35322874e+01, -1.23891084e+01,  1.21915256e+01, -4.39441000e+01,\n",
              "       -4.30942408e+01,  1.47254561e+01,  1.62138111e+01, -8.12764849e+01,\n",
              "        6.38155752e+00,  6.44498140e+00,  1.44261286e+01,  9.00800363e+00,\n",
              "       -2.00864883e+01, -1.65373926e+01,  1.54585860e+00, -1.58703663e+01,\n",
              "       -2.26682826e+01, -8.52371691e+01, -2.69699634e+01, -9.01532959e+01,\n",
              "       -7.85132529e+01,  5.54620944e+00, -8.63646486e+01, -2.55196984e+00,\n",
              "       -1.09292239e+01, -8.41551001e+01, -6.81388145e+01,  1.68447891e+01,\n",
              "       -5.52934877e+01, -2.35621239e+01,  1.55176290e+01,  1.04038431e+01,\n",
              "        2.42583822e+01,  1.48730493e+01,  2.29487029e+00,  1.88915710e+01,\n",
              "        2.15923127e+00, -8.47902485e+01,  2.81745032e+00, -7.39697554e+01,\n",
              "       -5.43996465e+01, -8.23261154e+01,  2.39849738e+01, -1.31476749e+01,\n",
              "       -1.73513747e+01,  6.20484356e+00, -5.89547621e+01, -2.83520310e+01,\n",
              "       -5.03773609e+01, -8.06247934e+01,  7.64599999e+00,  8.07011896e+00,\n",
              "       -3.14667085e+01, -3.36527992e+01,  2.43006442e+01, -8.95547024e+00,\n",
              "       -6.46788207e+01, -7.76587895e+01, -1.56617754e+01,  2.33645410e+01,\n",
              "       -3.56123126e+00, -2.31152033e+01, -3.56289805e+01, -6.94175164e+01,\n",
              "        5.58086001e+00,  1.84484142e+01, -4.12284253e+01, -4.42279906e+00,\n",
              "        1.36433589e+01, -2.49107305e+01, -3.02659331e+01, -4.23941023e+01,\n",
              "       -6.97924596e+01, -4.83098608e+01, -8.62981581e+01, -3.19127319e+01,\n",
              "       -5.30336917e+01, -3.62076377e+00,  2.00665209e+01,  3.25311320e+00,\n",
              "       -1.22568161e+01, -9.17400207e+01, -3.48142153e+01, -5.03865268e+01,\n",
              "       -2.47202621e+01, -6.56569389e+01, -9.35637790e+00, -6.75957033e+01,\n",
              "        2.18302225e+01, -6.52681888e+00,  1.64141104e+01, -8.63603359e+01,\n",
              "       -8.38741734e+01,  1.62834314e+01,  1.99532921e+01, -1.14149789e+01,\n",
              "        2.57678363e+01,  2.04868798e+01, -2.93720919e+01, -1.01545053e+01,\n",
              "       -2.98738571e+01,  2.43479114e+00, -6.83018442e+01,  5.77409953e+00,\n",
              "       -8.36682287e+00, -3.83105043e+01, -8.37672565e+01,  1.09363261e+01,\n",
              "       -7.34636140e+00,  7.60366695e+00, -8.38929588e+01, -8.30906407e+01,\n",
              "       -1.36022557e+01,  1.02093211e+01,  1.62138111e+01,  2.25959553e+00,\n",
              "        2.10105511e+01, -8.63305892e+01, -1.66003596e+01, -4.34453731e+00,\n",
              "        8.53210317e+00, -8.14544034e+01, -5.52934877e+01,  1.93422554e+01,\n",
              "       -3.84702429e+01,  5.42375082e+00,  1.80014936e+01, -1.66081808e+01,\n",
              "       -6.78537540e+00,  1.89071990e+01, -3.67111369e+01, -1.73052352e+01,\n",
              "        5.18715401e+00, -3.20536156e+01, -8.25752463e+01, -9.09414972e+01,\n",
              "       -7.46572286e+01, -2.75844094e+01, -5.97715596e+01, -2.58735650e+01,\n",
              "       -3.74166630e+01, -5.39567208e+01, -2.89251713e+01, -5.60512869e+00,\n",
              "        1.75140120e+01, -8.36520542e+01, -5.16777790e+01, -8.11643853e+01,\n",
              "       -4.05451073e+01, -8.52378692e+01,  1.89879651e+01, -8.36682287e+00,\n",
              "        4.59387505e+00, -2.10993422e+00, -2.98216356e+01, -4.16099344e+01,\n",
              "        1.88953348e+01, -3.13952277e+01, -1.08185522e+01, -8.12813405e+01,\n",
              "       -8.58108967e+01, -1.61247005e+01,  1.28008143e+01, -5.77729659e+01,\n",
              "       -8.40048994e+01, -4.85840185e+01, -8.61310104e+01,  1.16671640e+01,\n",
              "       -5.30588846e+01, -7.56645985e+01,  2.17518344e+01, -5.36625004e+01,\n",
              "       -9.14699390e+01, -3.34982921e+01, -2.78367738e+01, -9.59937183e+00,\n",
              "        2.34532529e+01, -4.38190332e+01, -1.80882690e+01, -5.84219321e+01,\n",
              "       -2.30649467e+01, -8.20468517e+01, -6.57914040e+00, -8.00617819e+00,\n",
              "        9.81444412e+00, -2.51833872e+01, -3.48274219e+01,  1.89728515e+01,\n",
              "        2.27820551e+00, -7.52896763e+01, -8.27999681e+01,  2.45263576e+01,\n",
              "       -2.02441037e+01,  2.84031421e+01, -2.13742991e+01, -7.94272011e+01,\n",
              "        5.71589489e-01, -5.79821378e+01, -3.60759012e+01, -1.46869498e+01,\n",
              "        2.80619258e+00, -7.09908714e+01, -7.88582487e+01, -5.31348678e+01,\n",
              "       -4.37200617e+01, -1.43105362e+01, -8.07679629e+01, -2.32754760e+01,\n",
              "       -2.65875779e+01, -2.70218975e+01,  2.78868109e+00, -8.42723333e+01,\n",
              "       -4.47645161e+01, -8.44620539e+01, -4.27797104e+01,  1.24442030e+01,\n",
              "        1.10547933e+01, -6.65407054e+01, -8.16131962e+01, -1.18731480e+01,\n",
              "        1.24489033e+01, -8.99349531e+01, -2.08806002e+01, -7.72644063e+01,\n",
              "       -8.58726726e+00, -2.75995689e+01,  1.97891761e+01, -6.68724472e+00,\n",
              "        1.43467496e+01, -2.28228553e+01, -7.75739625e+01, -4.41204723e+01,\n",
              "       -5.68529916e+00, -8.62608938e+01,  7.58453208e+00, -9.04942743e+00,\n",
              "       -8.65802462e+01, -1.76296751e+01,  1.24923925e+01, -5.88927534e+01,\n",
              "       -2.08806002e+01, -7.27074174e+01, -2.98206225e+01, -3.38473323e+01,\n",
              "       -7.63842872e+01,  2.22336892e+01, -1.69221009e+01,  1.48491801e+01,\n",
              "       -8.20951741e+01, -8.77678326e+01, -6.95216452e+00, -2.04481547e+01,\n",
              "       -3.92963304e+01, -7.29404971e+01, -3.80939448e+01,  1.35322874e+01,\n",
              "       -5.33908426e+01,  3.05819198e+00, -6.09435555e+01, -5.41910244e+01,\n",
              "       -1.23891084e+01,  1.53820575e+01, -5.09910441e+01, -3.11562623e+01,\n",
              "       -4.37287620e+01, -2.66611014e+01, -3.60609434e+01, -2.44559651e+01,\n",
              "        2.96980014e-01, -2.88610119e+01, -9.15125244e+01,  1.17446049e+01,\n",
              "       -1.51168057e+00, -5.82641524e+01, -1.36336380e+01, -8.64155013e+01,\n",
              "       -1.88711977e+01,  1.12999898e+01,  1.85773212e+01,  1.56371580e+01,\n",
              "       -4.31552798e+01, -1.45972336e+01, -4.40231976e+01,  1.46252746e+01,\n",
              "        9.72806212e+00,  5.99591429e+00, -1.98193038e+01, -1.50029496e+01,\n",
              "       -8.55471318e+01,  2.38089555e+01,  2.68843506e+01,  1.39036635e+00,\n",
              "       -3.43624504e+01, -6.95949475e+01, -2.95294698e+01, -9.09094058e+01,\n",
              "       -4.61930517e+01, -4.84224619e+01, -8.56558453e+01, -3.95211260e+01,\n",
              "       -1.54355022e+01, -1.56744081e+01,  1.72674266e+01,  7.35967149e+00,\n",
              "       -8.25556454e+01, -2.63160127e+01, -6.78072650e+01, -8.74717722e+01,\n",
              "        4.59387505e+00, -7.49579949e+01, -4.00981867e+01,  1.70094792e+01,\n",
              "       -9.12489245e+01,  3.17080095e+00, -9.14940578e+01, -5.08485105e+01,\n",
              "       -5.54323180e+01, -7.60064192e+01, -8.74786952e+01,  1.38171561e+01,\n",
              "       -8.98955390e+01, -3.83105043e+01, -7.13985567e+01, -9.17604984e+01,\n",
              "       -1.43102060e+01, -5.78058643e+01, -4.18858692e+01, -8.26191016e+01,\n",
              "       -8.96566106e+01, -7.31703124e+01, -2.35621239e+01, -8.50464604e+01,\n",
              "       -7.54049155e+01, -3.49823154e+01, -2.12703204e+00, -8.94954788e+01,\n",
              "       -5.08242816e+01,  7.11481017e+00, -1.54998838e+00,  1.88953348e+01,\n",
              "       -1.50444026e+01, -5.61873290e+01,  1.97891761e+01, -4.40823904e+01,\n",
              "       -5.45079236e+01, -3.70522089e+01, -4.98717457e+01,  5.48771628e+00,\n",
              "       -1.25113870e+01,  2.03384285e+01,  6.59349013e+00, -2.77883237e+01,\n",
              "        4.40655450e+00,  2.11864443e+01, -3.75863718e+01, -6.38939560e+01,\n",
              "       -5.13524860e+01, -8.07228279e+01,  5.60513054e+00, -7.13998338e+00,\n",
              "        1.96093922e+01, -2.37151888e+01, -1.30435699e+01, -6.46086343e+01,\n",
              "       -7.21313769e+01, -7.03356893e+01, -8.62610677e+01, -8.82501897e+00,\n",
              "       -2.20611846e+00, -5.23837854e+00, -1.95132729e+01, -2.10993422e+00,\n",
              "       -5.25324436e+01, -5.86978489e+01, -7.74619951e+01, -5.21650434e+01,\n",
              "       -1.50740381e+01, -2.39073863e+01, -2.43664462e+01, -3.99635313e+01,\n",
              "        3.04817071e-01, -5.50611925e+01, -5.01032319e+01, -8.09064654e+01,\n",
              "       -1.01545053e+01, -3.29474568e+01,  2.06747737e+01, -5.26147637e+01,\n",
              "       -9.10471371e+01, -2.13562162e+01, -4.15338415e+01, -2.88733707e+01,\n",
              "        1.81387201e+00, -7.31703124e+01, -3.56402867e+01, -8.92594547e+01,\n",
              "       -8.51751017e+01, -8.05782389e+01, -8.37167470e+00, -3.33560015e+01,\n",
              "        1.01851011e+00, -1.90929177e+01,  2.61346950e+01, -6.84363580e+01,\n",
              "        9.14752314e+00, -7.48305558e+01, -8.24368658e+01, -2.02934056e+01,\n",
              "       -2.72747160e+01, -7.82273615e+01, -2.80425456e+01, -1.75358631e+01,\n",
              "        4.44147726e-02, -2.39712451e+00, -3.84601596e+01, -5.41882660e+01,\n",
              "       -8.47902485e+01, -8.56116873e+01,  2.36493813e+01, -4.89536359e+01,\n",
              "        1.57993190e+01,  1.68848801e+01, -3.84776296e+01, -1.69152645e+00,\n",
              "       -2.44092840e+01, -8.86384917e+00, -6.24442176e+01, -4.41204723e+01,\n",
              "        8.16923999e+00, -4.76958372e+01, -1.41767909e+01,  2.76765014e+01,\n",
              "        1.91235134e+00,  6.50056305e+00, -5.34850986e+00, -5.37228855e+01,\n",
              "        1.53199699e+01, -3.17516730e+00, -2.94337756e+01, -7.35915212e+01,\n",
              "        2.53035137e+00, -6.59320360e+01, -4.56498966e+01,  1.17021443e-01,\n",
              "       -8.17113034e+01, -4.27834007e+01, -4.75525031e+01, -8.47902485e+01,\n",
              "       -1.37189719e+01, -5.87594823e+00, -3.73723600e+01,  3.60489225e-01,\n",
              "       -7.26565376e+01, -3.99456883e+01, -3.04903429e+01, -1.07431640e+01,\n",
              "       -3.80928111e+01, -8.30025660e+01, -2.82135746e+01, -5.42753358e+01,\n",
              "       -6.66353428e+00, -7.42844757e+01, -6.39375145e+01, -2.57967270e+01,\n",
              "        2.46226491e+01, -2.56477362e+00, -2.87142164e+01, -6.82480783e+00,\n",
              "        1.89145997e+01, -2.30645673e+01, -6.60195826e+01, -4.72489166e+01,\n",
              "       -2.44081030e+01, -2.35585200e+01, -3.45069607e+00, -3.17711219e+01,\n",
              "       -4.68019960e+01,  1.88953348e+01,  9.81537253e+00, -8.18000520e+01,\n",
              "       -3.99372805e+01, -4.54612341e+01, -7.80864392e+01,  1.69042208e+01,\n",
              "       -1.20518361e+01, -2.84782507e+01, -6.64582488e+01, -1.82419931e+01,\n",
              "        2.79864030e+01,  1.88953348e+01, -4.09573905e+01, -3.69431529e+01,\n",
              "        2.66429836e+00, -3.89761669e+00,  1.33535189e+01, -8.97372479e+01,\n",
              "        1.82706191e+01, -3.37776820e+01, -2.90242286e+00, -4.48321907e+01,\n",
              "       -4.60123249e+01, -7.76066377e+01, -7.59625944e+01,  6.32128296e+00,\n",
              "       -9.05968955e+01,  1.44261286e+01, -4.85408655e+01, -9.03841827e+01,\n",
              "       -8.01815648e+01, -4.83208545e+01, -3.87876191e+01, -3.57952242e+01,\n",
              "        1.46543072e+00, -6.91108703e+01, -8.20847890e+01, -3.60552325e+00,\n",
              "       -4.78085121e+01,  9.06308123e+00, -1.81820208e+01, -8.54362772e+01,\n",
              "        2.80619258e+00, -1.84926245e+01, -5.11214173e+00,  5.06298250e-02,\n",
              "        6.92574940e-01, -1.01545053e+01,  1.45064678e+01, -8.51962419e+01,\n",
              "        7.27539875e+00, -5.95829412e+01, -1.53611556e+01, -1.52950245e+01,\n",
              "       -4.46923095e+01, -7.28496851e+01, -7.94272011e+01, -5.10180644e+01,\n",
              "       -8.20599265e+01,  3.94580155e+00, -1.14952672e+01, -7.67456774e+01,\n",
              "        7.06102287e+00,  2.11851196e+01, -3.20536156e+01, -4.03443125e-02,\n",
              "        1.98237337e+01,  3.17579241e+00,  1.73096505e+01, -6.85335944e+01,\n",
              "       -1.90818937e+01, -6.06565351e+01, -7.66553371e+01,  5.86654048e-01,\n",
              "       -6.21264601e+01, -8.07579308e+01, -7.11476133e+00,  5.93463690e+00,\n",
              "        1.46543072e+00, -2.17744414e+01, -7.02606101e+00,  2.24706998e+01])"
            ]
          },
          "metadata": {},
          "execution_count": 123
        }
      ]
    },
    {
      "cell_type": "code",
      "source": [
        "y_train"
      ],
      "metadata": {
        "colab": {
          "base_uri": "https://localhost:8080/"
        },
        "id": "2pcDGb4wZJ9n",
        "outputId": "6595da95-0dce-4666-bdcb-1b525db401f3"
      },
      "execution_count": 124,
      "outputs": [
        {
          "output_type": "execute_result",
          "data": {
            "text/plain": [
              "284     -25.074661\n",
              "942     -79.683868\n",
              "178     -66.000000\n",
              "221     -87.662193\n",
              "695     -62.000000\n",
              "           ...    \n",
              "1012     12.000000\n",
              "396      -7.000000\n",
              "944     -93.000000\n",
              "274     -48.000000\n",
              "479     127.000000\n",
              "Name: 1, Length: 860, dtype: float64"
            ]
          },
          "metadata": {},
          "execution_count": 124
        }
      ]
    },
    {
      "cell_type": "code",
      "source": [
        "y_pred_test = regressor.predict(X_test.values.reshape(-1,1))"
      ],
      "metadata": {
        "id": "Ai_K2PQ6ZK3b"
      },
      "execution_count": 130,
      "outputs": []
    },
    {
      "cell_type": "code",
      "source": [
        "y_pred_test"
      ],
      "metadata": {
        "colab": {
          "base_uri": "https://localhost:8080/"
        },
        "id": "mxLUi373ZUUe",
        "outputId": "43b5fc04-de86-4bb4-a247-5abc3a21017e"
      },
      "execution_count": 131,
      "outputs": [
        {
          "output_type": "execute_result",
          "data": {
            "text/plain": [
              "array([  9.60643528, -20.43367955,   4.59387505,  13.10901386,\n",
              "        28.65154468,  22.47069976,   6.83900466,  -3.47403073,\n",
              "         5.14907673,  -8.09242664,  25.12466178,   8.00067506,\n",
              "       -16.81961775,  26.75333164, -31.84791733,   5.95496993,\n",
              "       -75.14576576,  13.97920802, -32.11097542,   6.14153242,\n",
              "         0.75410555,   9.03778151, -78.35206212, -47.22510083,\n",
              "        19.34225543, -48.96759129,   6.53269326, -11.04106468,\n",
              "       -43.87690144,   1.39775831,  13.10762777, -47.44835931,\n",
              "       -26.32993235, -25.35377372, -39.56975591, -33.10179261,\n",
              "       -18.08899273, -47.00543651, -10.55628693,  -1.03904074,\n",
              "        16.82104358,  -8.50518486, -36.07590117, -79.8741217 ,\n",
              "       -11.80269208,  18.89533482,  18.69743332, -17.75215584,\n",
              "       -87.08608601, -12.77056422, -81.50619875, -14.1767909 ,\n",
              "       -40.09818673,  -4.56323223,  21.57685852,  27.51028779,\n",
              "        18.68637534, -52.86160517,  18.67403568, -14.23464017,\n",
              "        18.00149358, -40.74180445, -82.37729503, -90.15329591,\n",
              "       -62.001389  ,  22.66142058, -67.31445675, -83.37389552,\n",
              "       -79.93354923, -76.87174064,  10.05884901,  14.86566859,\n",
              "        22.27833695,   1.91235134,  -9.42851606,  19.34225543,\n",
              "       -87.91869282, -53.50580526,  18.65164617,  20.14669592,\n",
              "        -1.80917327,  23.08839706, -29.39965064, -49.03659908,\n",
              "       -57.0811702 , -33.76016224, -31.15977437,  13.03956433,\n",
              "       -33.55169564, -87.02485159,  20.23609667, -86.43534452,\n",
              "        -1.73641799, -17.18872596, -83.00256603, -16.38727161,\n",
              "        18.87554464, -36.1377833 ,  24.17771404, -45.15525698,\n",
              "        -7.02606101, -84.67848867, -33.53811849,  15.80753225,\n",
              "       -10.60142595, -54.39964649,   3.70003381,   7.26574332,\n",
              "        -0.76917236,  -6.13221978,  11.49879066, -27.30818047,\n",
              "       -45.50041674, -79.42923686,  -0.15937094,   9.95692246,\n",
              "        -3.39109168,  10.36467891, -82.06924803, -34.87387658,\n",
              "        16.79416041,  10.69597072,  16.76055261, -20.01632608,\n",
              "        16.52198875,  11.94521442, -85.28353668,  -0.76917236,\n",
              "       -78.76866883, -86.57793097, -24.00904449,  15.88008467,\n",
              "       -29.06750831, -30.66681711,  28.71527302, -49.93044032,\n",
              "       -19.10632753, -63.33805885, -35.60417253, -87.34616584,\n",
              "       -80.68286617, -37.89393968, -33.73434685, -44.65002996,\n",
              "       -15.07063213, -87.64024041, -85.10441385,   6.79559907,\n",
              "        -4.96335595,  17.72210929,  -0.76917236, -13.67181358,\n",
              "        10.06699707, -21.4629644 ,  22.45097854,  10.00019394,\n",
              "       -23.49453935, -10.85841314, -49.56642622, -43.12120002,\n",
              "       -83.82804428, -53.46781005, -26.37061337, -16.8583146 ,\n",
              "       -85.23716912,  12.72280643, -84.7902485 , -32.05386891,\n",
              "       -89.99897632, -55.05173133,  -7.91990225,  14.95579089,\n",
              "       -82.95607225,  -7.52030386, -39.05116966, -20.52497429,\n",
              "        15.72997244, -58.11978644,  16.34394715, -34.83349144,\n",
              "       -39.20434549,  -0.36443509, -13.72987028, -31.20202414,\n",
              "       -85.75772022,   1.44797886, -24.90288572, -17.64544334,\n",
              "       -82.9584698 ,  -3.59262178, -26.80279776, -23.11520325,\n",
              "         8.16923999, -19.09291769, -13.76198506, -48.20230415,\n",
              "       -19.4917042 ,   8.99113211, -23.11520325, -53.56426976,\n",
              "       -69.61634973, -13.28294966, -83.19186225, -70.44512736,\n",
              "         4.64669887, -41.59411105,  24.26181596, -35.62898055,\n",
              "       -34.56912785, -15.03228234, -40.40357498, -57.53229007,\n",
              "       -20.3967359 , -33.39317636, -90.47217051,  13.45815802])"
            ]
          },
          "metadata": {},
          "execution_count": 131
        }
      ]
    },
    {
      "cell_type": "markdown",
      "source": [
        "##Evaluating the Score"
      ],
      "metadata": {
        "id": "4NDcFAwaZeWH"
      }
    },
    {
      "cell_type": "code",
      "source": [
        "from sklearn.metrics import mean_squared_error\n",
        "from sklearn.metrics import mean_absolute_error\n",
        "#Calculate MSE\n",
        "MSE_lr = mean_squared_error((y_train),(y_pred_train))\n",
        "print('MSE:', MSE_lr)\n",
        "\n",
        "#Calculate RMSE\n",
        "RMSE_lr = np.sqrt(MSE_lr)\n",
        "print('RMSE:', RMSE_lr)\n",
        "\n",
        "#Calculate MAE\n",
        "MAE_lr= mean_absolute_error(y_train, y_pred_train)\n",
        "print(\"MAE :\",MAE_lr)\n",
        "\n",
        "#Calculate R2_score\n",
        "from sklearn.metrics import r2_score\n",
        "R2_lr = r2_score(y_train, y_pred_train)\n",
        "print('R2_Score:', R2_lr)"
      ],
      "metadata": {
        "colab": {
          "base_uri": "https://localhost:8080/"
        },
        "id": "dlBhXw-bZVIu",
        "outputId": "f9b997d1-7e5e-44dc-cd42-5d3665b2b87b"
      },
      "execution_count": 128,
      "outputs": [
        {
          "output_type": "stream",
          "name": "stdout",
          "text": [
            "MSE: 3430.739052254611\n",
            "RMSE: 58.57251106325057\n",
            "MAE : 44.40706968521298\n",
            "R2_Score: 0.23428199440743602\n"
          ]
        }
      ]
    },
    {
      "cell_type": "markdown",
      "source": [
        "Looks like our r2 score value is 0.66 that means our model is not able to capture most of the data variance"
      ],
      "metadata": {
        "id": "0Vp_V_sLb_mn"
      }
    },
    {
      "cell_type": "code",
      "source": [
        "from sklearn.metrics import mean_squared_error\n",
        "#CAlculate MSE\n",
        "MSE_lr = mean_squared_error(y_test, y_pred_test)\n",
        "print(\"MSE:\", MSE_lr)\n",
        "\n",
        "#Calculate RMSE\n",
        "RMSE_lr = np.sqrt(MSE_lr)\n",
        "print('RMSE:', RMSE_lr)\n",
        "\n",
        "#Calculate MAE\n",
        "MAE_lr= mean_absolute_error(y_test, y_pred_test)\n",
        "print(\"MAE :\",MAE_lr)\n",
        "\n",
        "#Calculate R2_score\n",
        "R2_score = r2_score(y_test, y_pred_test)\n",
        "print('R2_score:', R2_score)"
      ],
      "metadata": {
        "colab": {
          "base_uri": "https://localhost:8080/"
        },
        "id": "VrlunOoFbsBp",
        "outputId": "8e87df53-d41b-4333-cb3f-5c2465ced07c"
      },
      "execution_count": 132,
      "outputs": [
        {
          "output_type": "stream",
          "name": "stdout",
          "text": [
            "MSE: 3108.2993404738663\n",
            "RMSE: 55.75212408934628\n",
            "MAE : 45.34017653611249\n",
            "R2_score: 0.38681177380239573\n"
          ]
        }
      ]
    },
    {
      "cell_type": "markdown",
      "source": [
        "The r2_score for the test set is 0.667 This means our linear model is not performing well on the data"
      ],
      "metadata": {
        "id": "4ieWbT8TcEjF"
      }
    },
    {
      "cell_type": "markdown",
      "source": [
        "##Random Forest"
      ],
      "metadata": {
        "id": "_32Q3wxWcaYJ"
      }
    },
    {
      "cell_type": "code",
      "source": [
        "from sklearn.ensemble import RandomForestRegressor\n",
        "rf = RandomForestRegressor()\n",
        "rf.fit(X_train.values.reshape(-1,1), y_train)"
      ],
      "metadata": {
        "colab": {
          "base_uri": "https://localhost:8080/"
        },
        "id": "hj73b18hdOcd",
        "outputId": "ff8dd796-44f7-4720-8c90-23d7d0fbc50b"
      },
      "execution_count": 140,
      "outputs": [
        {
          "output_type": "execute_result",
          "data": {
            "text/plain": [
              "RandomForestRegressor()"
            ]
          },
          "metadata": {},
          "execution_count": 140
        }
      ]
    },
    {
      "cell_type": "code",
      "source": [
        "# Making predictions on train and test data\n",
        "y_pred_train_rf = rf.predict(X_train.values.reshape(-1,1))\n"
      ],
      "metadata": {
        "id": "FjGujguydXaj"
      },
      "execution_count": 143,
      "outputs": []
    },
    {
      "cell_type": "code",
      "source": [
        "y_pred_test_rf = rf.predict(X_test.values.reshape(-1,1))"
      ],
      "metadata": {
        "id": "NYjMgxZCde-0"
      },
      "execution_count": 145,
      "outputs": []
    },
    {
      "cell_type": "code",
      "source": [
        "from sklearn.metrics import mean_squared_error\n",
        "print('Model Score:', rf.score(X_train.values.reshape(-1,1), y_train))\n",
        "\n",
        "#Calculate MSE\n",
        "MSE_rf = mean_squared_error(y_train, y_pred_train_rf)\n",
        "print('MSE:', MSE_rf)\n",
        "\n",
        "# Calculate RMSE\n",
        "RMSE_rf = np.sqrt(MSE_rf)\n",
        "print('RMSE:', RMSE_rf)\n",
        "\n",
        "# Calculate MAE\n",
        "MAE_rf= mean_absolute_error(y_train, y_pred_train_rf)\n",
        "print(\"MAE :\",MAE_rf)\n",
        "\n",
        "#Calculate R2_Score\n",
        "from sklearn.metrics import r2_score\n",
        "r2_rf = r2_score(y_train, y_pred_train_rf)\n",
        "print('R2_score:', r2_rf)"
      ],
      "metadata": {
        "colab": {
          "base_uri": "https://localhost:8080/"
        },
        "id": "SfupOvB5dlu4",
        "outputId": "4b7caa29-9806-4569-db3e-3e02c684d7d4"
      },
      "execution_count": 147,
      "outputs": [
        {
          "output_type": "stream",
          "name": "stdout",
          "text": [
            "Model Score: 0.93689763539278\n",
            "MSE: 282.72516117740514\n",
            "RMSE: 16.814433120905537\n",
            "MAE : 10.054578825637927\n",
            "R2_score: 0.93689763539278\n"
          ]
        }
      ]
    },
    {
      "cell_type": "markdown",
      "source": [
        "Looks like our r2 score value is 0.93 that means our model is able to capture most of the data variance."
      ],
      "metadata": {
        "id": "MZ6mHa_dd4tK"
      }
    },
    {
      "cell_type": "code",
      "source": [
        "from sklearn.metrics import mean_squared_error\n",
        "#calculate MSE\n",
        "MSE_rf= mean_squared_error(y_test, y_pred_test_rf)\n",
        "print(\"MSE :\",MSE_rf)\n",
        "\n",
        "#calculate RMSE\n",
        "RMSE_rf=np.sqrt(MSE_rf)\n",
        "print(\"RMSE :\",RMSE_rf)\n",
        "\n",
        "\n",
        "#calculate MAE\n",
        "MAE_rf= mean_absolute_error(y_test, y_pred_test_rf)\n",
        "print(\"MAE :\",MAE_rf)\n",
        "\n",
        "\n",
        "from sklearn.metrics import r2_score\n",
        "#calculate R2_score\n",
        "r2_rf= r2_score((y_test), (y_pred_test_rf))\n",
        "print(\"R2_Score :\",r2_rf)"
      ],
      "metadata": {
        "colab": {
          "base_uri": "https://localhost:8080/"
        },
        "id": "-ckSMIjyd7GL",
        "outputId": "1468dd54-3a53-425e-f55b-feb96a9b5d5b"
      },
      "execution_count": 148,
      "outputs": [
        {
          "output_type": "stream",
          "name": "stdout",
          "text": [
            "MSE : 1654.6938476535029\n",
            "RMSE : 40.67792826157083\n",
            "MAE : 25.738365310278613\n",
            "R2_Score : 0.6735710836691627\n"
          ]
        }
      ]
    },
    {
      "cell_type": "markdown",
      "source": [
        "The r2_score for the test set is 0.67. This means our linear model is performing well on the data."
      ],
      "metadata": {
        "id": "k5lOHYENeCn2"
      }
    },
    {
      "cell_type": "markdown",
      "source": [
        "##ELASTIC NET REGRESSION"
      ],
      "metadata": {
        "id": "cYKjaHqXeNf4"
      }
    },
    {
      "cell_type": "code",
      "source": [
        "from sklearn.linear_model import ElasticNet\n",
        "\n",
        "elasticnet = ElasticNet(alpha=0.1, l1_ratio=0.5)"
      ],
      "metadata": {
        "id": "eXH5sgAbeEaZ"
      },
      "execution_count": 149,
      "outputs": []
    },
    {
      "cell_type": "code",
      "source": [
        "#FIT THE MODEL\n",
        "elasticnet.fit(X_train.values.reshape(-1,1), y_train)"
      ],
      "metadata": {
        "colab": {
          "base_uri": "https://localhost:8080/"
        },
        "id": "qWjdZUzYeVYR",
        "outputId": "c550c481-ebda-4c5a-eb8c-41aa45ca6941"
      },
      "execution_count": 151,
      "outputs": [
        {
          "output_type": "execute_result",
          "data": {
            "text/plain": [
              "ElasticNet(alpha=0.1)"
            ]
          },
          "metadata": {},
          "execution_count": 151
        }
      ]
    },
    {
      "cell_type": "code",
      "source": [
        "#check the score\n",
        "elasticnet.score(X_train.values.reshape(-1,1), y_train)"
      ],
      "metadata": {
        "colab": {
          "base_uri": "https://localhost:8080/"
        },
        "id": "BEqCodSdecFN",
        "outputId": "98d73e99-d940-4582-db69-866c0de1efd8"
      },
      "execution_count": 153,
      "outputs": [
        {
          "output_type": "execute_result",
          "data": {
            "text/plain": [
              "0.23595337391301563"
            ]
          },
          "metadata": {},
          "execution_count": 153
        }
      ]
    },
    {
      "cell_type": "code",
      "source": [
        "#get the X_train and X-test value\n",
        "y_pred_train_en=elasticnet.predict(X_train.values.reshape(-1,1))\n",
        "y_pred_test_en=elasticnet.predict(X_test.values.reshape(-1,1))"
      ],
      "metadata": {
        "id": "dVjonguEehlH"
      },
      "execution_count": 155,
      "outputs": []
    },
    {
      "cell_type": "code",
      "source": [
        "from sklearn.metrics import mean_squared_error\n",
        "#calculate MSE\n",
        "MSE_e= mean_squared_error((y_train), (y_pred_train_en))\n",
        "print(\"MSE :\",MSE_e)\n",
        "\n",
        "#calculate RMSE\n",
        "RMSE_e=np.sqrt(MSE_e)\n",
        "print(\"RMSE :\",RMSE_e)\n",
        "\n",
        "\n",
        "#calculate MAE\n",
        "MAE_e= mean_absolute_error(y_train, y_pred_train_en)\n",
        "print(\"MAE :\",MAE_e)\n",
        "\n",
        "\n",
        "#import the packages\n",
        "from sklearn.metrics import r2_score\n",
        "#calculate r2 and adjusted r2\n",
        "r2_e= r2_score(y_train, y_pred_train_en)\n",
        "print(\"R2 :\",r2_e)"
      ],
      "metadata": {
        "colab": {
          "base_uri": "https://localhost:8080/"
        },
        "id": "uzoAuqiFeqwY",
        "outputId": "45a22150-3245-42df-bb73-9994c400f314"
      },
      "execution_count": 156,
      "outputs": [
        {
          "output_type": "stream",
          "name": "stdout",
          "text": [
            "MSE : 3423.2505683753634\n",
            "RMSE : 58.50855124146695\n",
            "MAE : 44.36835672601774\n",
            "R2 : 0.23595337391301563\n"
          ]
        }
      ]
    },
    {
      "cell_type": "markdown",
      "source": [
        "Looks like our r2 score value is 0.23 that means our model is not able to capture most of the data variance."
      ],
      "metadata": {
        "id": "wwUToxtjevjS"
      }
    },
    {
      "cell_type": "code",
      "source": [
        "from sklearn.metrics import mean_squared_error\n",
        "#calculate MSE\n",
        "MSE_e= mean_squared_error(y_test, y_pred_test_en)\n",
        "print(\"MSE :\",MSE_e)\n",
        "\n",
        "#calculate RMSE\n",
        "RMSE_e=np.sqrt(MSE_e)\n",
        "print(\"RMSE :\",RMSE_e)\n",
        "\n",
        "\n",
        "#calculate MAE\n",
        "MAE_e= mean_absolute_error(y_test, y_pred_test_en)\n",
        "print(\"MAE :\",MAE_e)\n",
        "\n",
        "\n",
        "#import the packages\n",
        "from sklearn.metrics import r2_score\n",
        "#calculate r2 and adjusted r2\n",
        "r2_e= r2_score((y_test), (y_pred_test_en))\n",
        "print(\"R2 :\",r2_e)"
      ],
      "metadata": {
        "colab": {
          "base_uri": "https://localhost:8080/"
        },
        "id": "K0VA0c8XextB",
        "outputId": "916c79ab-d005-4e4c-9fc6-4a1131b9df1d"
      },
      "execution_count": 157,
      "outputs": [
        {
          "output_type": "stream",
          "name": "stdout",
          "text": [
            "MSE : 3174.791292688883\n",
            "RMSE : 56.34528633957665\n",
            "MAE : 45.857551663849414\n",
            "R2 : 0.3736946065771418\n"
          ]
        }
      ]
    },
    {
      "cell_type": "markdown",
      "source": [
        "The r2_score for the test set is 0.57. This means our linear model is not performing well on the data. "
      ],
      "metadata": {
        "id": "Gj09xEhhe1_s"
      }
    },
    {
      "cell_type": "markdown",
      "source": [
        "##Conclusion"
      ],
      "metadata": {
        "id": "Qpa-nQ-ne7D5"
      }
    },
    {
      "cell_type": "markdown",
      "source": [
        "1. During the time of our analysis, we initially did EDA on all the features of our datset. We first analysed our dependent variable. Next we analysed both columns and dropped the dublicate data from the datasets. We also found out the correlation, distribution and their relationship with the dependent variable.\n",
        "\n",
        "2. We implemented 3 Machine Learning algorithm LinearRegression, RandomForest, ElasticNet.\n",
        "\n",
        "3. Random Forest gives the highest R2 Score of 93% for training set and 67% for testing set."
      ],
      "metadata": {
        "id": "AFj_adzPfBe_"
      }
    }
  ]
}